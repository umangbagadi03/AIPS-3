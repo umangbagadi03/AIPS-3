{
  "nbformat": 4,
  "nbformat_minor": 0,
  "metadata": {
    "colab": {
      "name": "wed_8.ipynb",
      "provenance": [],
      "collapsed_sections": []
    },
    "kernelspec": {
      "name": "python3",
      "display_name": "Python 3"
    },
    "language_info": {
      "name": "python"
    },
    "widgets": {
      "application/vnd.jupyter.widget-state+json": {
        "d8afa050923e4d9ca99889bf96341a33": {
          "model_module": "@jupyter-widgets/controls",
          "model_name": "HBoxModel",
          "model_module_version": "1.5.0",
          "state": {
            "_dom_classes": [],
            "_model_module": "@jupyter-widgets/controls",
            "_model_module_version": "1.5.0",
            "_model_name": "HBoxModel",
            "_view_count": null,
            "_view_module": "@jupyter-widgets/controls",
            "_view_module_version": "1.5.0",
            "_view_name": "HBoxView",
            "box_style": "",
            "children": [
              "IPY_MODEL_c1a8f9e5d9764e0c85b1bea0f3a22334",
              "IPY_MODEL_74c48c8f3f624a85b8756e6591ea8463",
              "IPY_MODEL_cbda70ca736c4389963eb78632ed86d2"
            ],
            "layout": "IPY_MODEL_b782a58452b84baca38487b9eea8000f"
          }
        },
        "c1a8f9e5d9764e0c85b1bea0f3a22334": {
          "model_module": "@jupyter-widgets/controls",
          "model_name": "HTMLModel",
          "model_module_version": "1.5.0",
          "state": {
            "_dom_classes": [],
            "_model_module": "@jupyter-widgets/controls",
            "_model_module_version": "1.5.0",
            "_model_name": "HTMLModel",
            "_view_count": null,
            "_view_module": "@jupyter-widgets/controls",
            "_view_module_version": "1.5.0",
            "_view_name": "HTMLView",
            "description": "",
            "description_tooltip": null,
            "layout": "IPY_MODEL_98819256b587488eb1537c2e9146115e",
            "placeholder": "​",
            "style": "IPY_MODEL_abc46ff8ef794e4cb0b3eea586fc6f2e",
            "value": "Downloading: 100%"
          }
        },
        "74c48c8f3f624a85b8756e6591ea8463": {
          "model_module": "@jupyter-widgets/controls",
          "model_name": "FloatProgressModel",
          "model_module_version": "1.5.0",
          "state": {
            "_dom_classes": [],
            "_model_module": "@jupyter-widgets/controls",
            "_model_module_version": "1.5.0",
            "_model_name": "FloatProgressModel",
            "_view_count": null,
            "_view_module": "@jupyter-widgets/controls",
            "_view_module_version": "1.5.0",
            "_view_name": "ProgressView",
            "bar_style": "success",
            "description": "",
            "description_tooltip": null,
            "layout": "IPY_MODEL_fb5d4344f8c14bbc9386c838ca0e1e0f",
            "max": 587,
            "min": 0,
            "orientation": "horizontal",
            "style": "IPY_MODEL_03e290fe51584d029c7cb9f96e0e9d99",
            "value": 587
          }
        },
        "cbda70ca736c4389963eb78632ed86d2": {
          "model_module": "@jupyter-widgets/controls",
          "model_name": "HTMLModel",
          "model_module_version": "1.5.0",
          "state": {
            "_dom_classes": [],
            "_model_module": "@jupyter-widgets/controls",
            "_model_module_version": "1.5.0",
            "_model_name": "HTMLModel",
            "_view_count": null,
            "_view_module": "@jupyter-widgets/controls",
            "_view_module_version": "1.5.0",
            "_view_name": "HTMLView",
            "description": "",
            "description_tooltip": null,
            "layout": "IPY_MODEL_6de8d44e235e44169a3b319bc0bbdb16",
            "placeholder": "​",
            "style": "IPY_MODEL_c3f3621aa5254e87b17d3e7d89314e9f",
            "value": " 587/587 [00:00&lt;00:00, 12.7kB/s]"
          }
        },
        "b782a58452b84baca38487b9eea8000f": {
          "model_module": "@jupyter-widgets/base",
          "model_name": "LayoutModel",
          "model_module_version": "1.2.0",
          "state": {
            "_model_module": "@jupyter-widgets/base",
            "_model_module_version": "1.2.0",
            "_model_name": "LayoutModel",
            "_view_count": null,
            "_view_module": "@jupyter-widgets/base",
            "_view_module_version": "1.2.0",
            "_view_name": "LayoutView",
            "align_content": null,
            "align_items": null,
            "align_self": null,
            "border": null,
            "bottom": null,
            "display": null,
            "flex": null,
            "flex_flow": null,
            "grid_area": null,
            "grid_auto_columns": null,
            "grid_auto_flow": null,
            "grid_auto_rows": null,
            "grid_column": null,
            "grid_gap": null,
            "grid_row": null,
            "grid_template_areas": null,
            "grid_template_columns": null,
            "grid_template_rows": null,
            "height": null,
            "justify_content": null,
            "justify_items": null,
            "left": null,
            "margin": null,
            "max_height": null,
            "max_width": null,
            "min_height": null,
            "min_width": null,
            "object_fit": null,
            "object_position": null,
            "order": null,
            "overflow": null,
            "overflow_x": null,
            "overflow_y": null,
            "padding": null,
            "right": null,
            "top": null,
            "visibility": null,
            "width": null
          }
        },
        "98819256b587488eb1537c2e9146115e": {
          "model_module": "@jupyter-widgets/base",
          "model_name": "LayoutModel",
          "model_module_version": "1.2.0",
          "state": {
            "_model_module": "@jupyter-widgets/base",
            "_model_module_version": "1.2.0",
            "_model_name": "LayoutModel",
            "_view_count": null,
            "_view_module": "@jupyter-widgets/base",
            "_view_module_version": "1.2.0",
            "_view_name": "LayoutView",
            "align_content": null,
            "align_items": null,
            "align_self": null,
            "border": null,
            "bottom": null,
            "display": null,
            "flex": null,
            "flex_flow": null,
            "grid_area": null,
            "grid_auto_columns": null,
            "grid_auto_flow": null,
            "grid_auto_rows": null,
            "grid_column": null,
            "grid_gap": null,
            "grid_row": null,
            "grid_template_areas": null,
            "grid_template_columns": null,
            "grid_template_rows": null,
            "height": null,
            "justify_content": null,
            "justify_items": null,
            "left": null,
            "margin": null,
            "max_height": null,
            "max_width": null,
            "min_height": null,
            "min_width": null,
            "object_fit": null,
            "object_position": null,
            "order": null,
            "overflow": null,
            "overflow_x": null,
            "overflow_y": null,
            "padding": null,
            "right": null,
            "top": null,
            "visibility": null,
            "width": null
          }
        },
        "abc46ff8ef794e4cb0b3eea586fc6f2e": {
          "model_module": "@jupyter-widgets/controls",
          "model_name": "DescriptionStyleModel",
          "model_module_version": "1.5.0",
          "state": {
            "_model_module": "@jupyter-widgets/controls",
            "_model_module_version": "1.5.0",
            "_model_name": "DescriptionStyleModel",
            "_view_count": null,
            "_view_module": "@jupyter-widgets/base",
            "_view_module_version": "1.2.0",
            "_view_name": "StyleView",
            "description_width": ""
          }
        },
        "fb5d4344f8c14bbc9386c838ca0e1e0f": {
          "model_module": "@jupyter-widgets/base",
          "model_name": "LayoutModel",
          "model_module_version": "1.2.0",
          "state": {
            "_model_module": "@jupyter-widgets/base",
            "_model_module_version": "1.2.0",
            "_model_name": "LayoutModel",
            "_view_count": null,
            "_view_module": "@jupyter-widgets/base",
            "_view_module_version": "1.2.0",
            "_view_name": "LayoutView",
            "align_content": null,
            "align_items": null,
            "align_self": null,
            "border": null,
            "bottom": null,
            "display": null,
            "flex": null,
            "flex_flow": null,
            "grid_area": null,
            "grid_auto_columns": null,
            "grid_auto_flow": null,
            "grid_auto_rows": null,
            "grid_column": null,
            "grid_gap": null,
            "grid_row": null,
            "grid_template_areas": null,
            "grid_template_columns": null,
            "grid_template_rows": null,
            "height": null,
            "justify_content": null,
            "justify_items": null,
            "left": null,
            "margin": null,
            "max_height": null,
            "max_width": null,
            "min_height": null,
            "min_width": null,
            "object_fit": null,
            "object_position": null,
            "order": null,
            "overflow": null,
            "overflow_x": null,
            "overflow_y": null,
            "padding": null,
            "right": null,
            "top": null,
            "visibility": null,
            "width": null
          }
        },
        "03e290fe51584d029c7cb9f96e0e9d99": {
          "model_module": "@jupyter-widgets/controls",
          "model_name": "ProgressStyleModel",
          "model_module_version": "1.5.0",
          "state": {
            "_model_module": "@jupyter-widgets/controls",
            "_model_module_version": "1.5.0",
            "_model_name": "ProgressStyleModel",
            "_view_count": null,
            "_view_module": "@jupyter-widgets/base",
            "_view_module_version": "1.2.0",
            "_view_name": "StyleView",
            "bar_color": null,
            "description_width": ""
          }
        },
        "6de8d44e235e44169a3b319bc0bbdb16": {
          "model_module": "@jupyter-widgets/base",
          "model_name": "LayoutModel",
          "model_module_version": "1.2.0",
          "state": {
            "_model_module": "@jupyter-widgets/base",
            "_model_module_version": "1.2.0",
            "_model_name": "LayoutModel",
            "_view_count": null,
            "_view_module": "@jupyter-widgets/base",
            "_view_module_version": "1.2.0",
            "_view_name": "LayoutView",
            "align_content": null,
            "align_items": null,
            "align_self": null,
            "border": null,
            "bottom": null,
            "display": null,
            "flex": null,
            "flex_flow": null,
            "grid_area": null,
            "grid_auto_columns": null,
            "grid_auto_flow": null,
            "grid_auto_rows": null,
            "grid_column": null,
            "grid_gap": null,
            "grid_row": null,
            "grid_template_areas": null,
            "grid_template_columns": null,
            "grid_template_rows": null,
            "height": null,
            "justify_content": null,
            "justify_items": null,
            "left": null,
            "margin": null,
            "max_height": null,
            "max_width": null,
            "min_height": null,
            "min_width": null,
            "object_fit": null,
            "object_position": null,
            "order": null,
            "overflow": null,
            "overflow_x": null,
            "overflow_y": null,
            "padding": null,
            "right": null,
            "top": null,
            "visibility": null,
            "width": null
          }
        },
        "c3f3621aa5254e87b17d3e7d89314e9f": {
          "model_module": "@jupyter-widgets/controls",
          "model_name": "DescriptionStyleModel",
          "model_module_version": "1.5.0",
          "state": {
            "_model_module": "@jupyter-widgets/controls",
            "_model_module_version": "1.5.0",
            "_model_name": "DescriptionStyleModel",
            "_view_count": null,
            "_view_module": "@jupyter-widgets/base",
            "_view_module_version": "1.2.0",
            "_view_name": "StyleView",
            "description_width": ""
          }
        },
        "4997c748763248dda0633bfb70dd479b": {
          "model_module": "@jupyter-widgets/controls",
          "model_name": "HBoxModel",
          "model_module_version": "1.5.0",
          "state": {
            "_dom_classes": [],
            "_model_module": "@jupyter-widgets/controls",
            "_model_module_version": "1.5.0",
            "_model_name": "HBoxModel",
            "_view_count": null,
            "_view_module": "@jupyter-widgets/controls",
            "_view_module_version": "1.5.0",
            "_view_name": "HBoxView",
            "box_style": "",
            "children": [
              "IPY_MODEL_38a61a1644bc42bd805da7b7638db81e",
              "IPY_MODEL_0cdcd2002d2b4d129eef5eb26a641883",
              "IPY_MODEL_b0a962a818aa43648d4be7f6c063c305"
            ],
            "layout": "IPY_MODEL_3bf7a4ea071148509a690a82a20ca967"
          }
        },
        "38a61a1644bc42bd805da7b7638db81e": {
          "model_module": "@jupyter-widgets/controls",
          "model_name": "HTMLModel",
          "model_module_version": "1.5.0",
          "state": {
            "_dom_classes": [],
            "_model_module": "@jupyter-widgets/controls",
            "_model_module_version": "1.5.0",
            "_model_name": "HTMLModel",
            "_view_count": null,
            "_view_module": "@jupyter-widgets/controls",
            "_view_module_version": "1.5.0",
            "_view_name": "HTMLView",
            "description": "",
            "description_tooltip": null,
            "layout": "IPY_MODEL_4804d1d0acda4d5cb2e40ee6571a7a0c",
            "placeholder": "​",
            "style": "IPY_MODEL_763179ded4264bfda76ff7b2f81032f5",
            "value": "Downloading: 100%"
          }
        },
        "0cdcd2002d2b4d129eef5eb26a641883": {
          "model_module": "@jupyter-widgets/controls",
          "model_name": "FloatProgressModel",
          "model_module_version": "1.5.0",
          "state": {
            "_dom_classes": [],
            "_model_module": "@jupyter-widgets/controls",
            "_model_module_version": "1.5.0",
            "_model_name": "FloatProgressModel",
            "_view_count": null,
            "_view_module": "@jupyter-widgets/controls",
            "_view_module_version": "1.5.0",
            "_view_name": "ProgressView",
            "bar_style": "success",
            "description": "",
            "description_tooltip": null,
            "layout": "IPY_MODEL_0b7f044057e64705a61e460d318fb433",
            "max": 438022897,
            "min": 0,
            "orientation": "horizontal",
            "style": "IPY_MODEL_6c898b7ddea54edb8c5ecf03f8a5c18d",
            "value": 438022897
          }
        },
        "b0a962a818aa43648d4be7f6c063c305": {
          "model_module": "@jupyter-widgets/controls",
          "model_name": "HTMLModel",
          "model_module_version": "1.5.0",
          "state": {
            "_dom_classes": [],
            "_model_module": "@jupyter-widgets/controls",
            "_model_module_version": "1.5.0",
            "_model_name": "HTMLModel",
            "_view_count": null,
            "_view_module": "@jupyter-widgets/controls",
            "_view_module_version": "1.5.0",
            "_view_name": "HTMLView",
            "description": "",
            "description_tooltip": null,
            "layout": "IPY_MODEL_a25008677ec747bd83b86186c9853a73",
            "placeholder": "​",
            "style": "IPY_MODEL_367bfca2b4564d25940eb59adf8b88bb",
            "value": " 418M/418M [00:09&lt;00:00, 42.0MB/s]"
          }
        },
        "3bf7a4ea071148509a690a82a20ca967": {
          "model_module": "@jupyter-widgets/base",
          "model_name": "LayoutModel",
          "model_module_version": "1.2.0",
          "state": {
            "_model_module": "@jupyter-widgets/base",
            "_model_module_version": "1.2.0",
            "_model_name": "LayoutModel",
            "_view_count": null,
            "_view_module": "@jupyter-widgets/base",
            "_view_module_version": "1.2.0",
            "_view_name": "LayoutView",
            "align_content": null,
            "align_items": null,
            "align_self": null,
            "border": null,
            "bottom": null,
            "display": null,
            "flex": null,
            "flex_flow": null,
            "grid_area": null,
            "grid_auto_columns": null,
            "grid_auto_flow": null,
            "grid_auto_rows": null,
            "grid_column": null,
            "grid_gap": null,
            "grid_row": null,
            "grid_template_areas": null,
            "grid_template_columns": null,
            "grid_template_rows": null,
            "height": null,
            "justify_content": null,
            "justify_items": null,
            "left": null,
            "margin": null,
            "max_height": null,
            "max_width": null,
            "min_height": null,
            "min_width": null,
            "object_fit": null,
            "object_position": null,
            "order": null,
            "overflow": null,
            "overflow_x": null,
            "overflow_y": null,
            "padding": null,
            "right": null,
            "top": null,
            "visibility": null,
            "width": null
          }
        },
        "4804d1d0acda4d5cb2e40ee6571a7a0c": {
          "model_module": "@jupyter-widgets/base",
          "model_name": "LayoutModel",
          "model_module_version": "1.2.0",
          "state": {
            "_model_module": "@jupyter-widgets/base",
            "_model_module_version": "1.2.0",
            "_model_name": "LayoutModel",
            "_view_count": null,
            "_view_module": "@jupyter-widgets/base",
            "_view_module_version": "1.2.0",
            "_view_name": "LayoutView",
            "align_content": null,
            "align_items": null,
            "align_self": null,
            "border": null,
            "bottom": null,
            "display": null,
            "flex": null,
            "flex_flow": null,
            "grid_area": null,
            "grid_auto_columns": null,
            "grid_auto_flow": null,
            "grid_auto_rows": null,
            "grid_column": null,
            "grid_gap": null,
            "grid_row": null,
            "grid_template_areas": null,
            "grid_template_columns": null,
            "grid_template_rows": null,
            "height": null,
            "justify_content": null,
            "justify_items": null,
            "left": null,
            "margin": null,
            "max_height": null,
            "max_width": null,
            "min_height": null,
            "min_width": null,
            "object_fit": null,
            "object_position": null,
            "order": null,
            "overflow": null,
            "overflow_x": null,
            "overflow_y": null,
            "padding": null,
            "right": null,
            "top": null,
            "visibility": null,
            "width": null
          }
        },
        "763179ded4264bfda76ff7b2f81032f5": {
          "model_module": "@jupyter-widgets/controls",
          "model_name": "DescriptionStyleModel",
          "model_module_version": "1.5.0",
          "state": {
            "_model_module": "@jupyter-widgets/controls",
            "_model_module_version": "1.5.0",
            "_model_name": "DescriptionStyleModel",
            "_view_count": null,
            "_view_module": "@jupyter-widgets/base",
            "_view_module_version": "1.2.0",
            "_view_name": "StyleView",
            "description_width": ""
          }
        },
        "0b7f044057e64705a61e460d318fb433": {
          "model_module": "@jupyter-widgets/base",
          "model_name": "LayoutModel",
          "model_module_version": "1.2.0",
          "state": {
            "_model_module": "@jupyter-widgets/base",
            "_model_module_version": "1.2.0",
            "_model_name": "LayoutModel",
            "_view_count": null,
            "_view_module": "@jupyter-widgets/base",
            "_view_module_version": "1.2.0",
            "_view_name": "LayoutView",
            "align_content": null,
            "align_items": null,
            "align_self": null,
            "border": null,
            "bottom": null,
            "display": null,
            "flex": null,
            "flex_flow": null,
            "grid_area": null,
            "grid_auto_columns": null,
            "grid_auto_flow": null,
            "grid_auto_rows": null,
            "grid_column": null,
            "grid_gap": null,
            "grid_row": null,
            "grid_template_areas": null,
            "grid_template_columns": null,
            "grid_template_rows": null,
            "height": null,
            "justify_content": null,
            "justify_items": null,
            "left": null,
            "margin": null,
            "max_height": null,
            "max_width": null,
            "min_height": null,
            "min_width": null,
            "object_fit": null,
            "object_position": null,
            "order": null,
            "overflow": null,
            "overflow_x": null,
            "overflow_y": null,
            "padding": null,
            "right": null,
            "top": null,
            "visibility": null,
            "width": null
          }
        },
        "6c898b7ddea54edb8c5ecf03f8a5c18d": {
          "model_module": "@jupyter-widgets/controls",
          "model_name": "ProgressStyleModel",
          "model_module_version": "1.5.0",
          "state": {
            "_model_module": "@jupyter-widgets/controls",
            "_model_module_version": "1.5.0",
            "_model_name": "ProgressStyleModel",
            "_view_count": null,
            "_view_module": "@jupyter-widgets/base",
            "_view_module_version": "1.2.0",
            "_view_name": "StyleView",
            "bar_color": null,
            "description_width": ""
          }
        },
        "a25008677ec747bd83b86186c9853a73": {
          "model_module": "@jupyter-widgets/base",
          "model_name": "LayoutModel",
          "model_module_version": "1.2.0",
          "state": {
            "_model_module": "@jupyter-widgets/base",
            "_model_module_version": "1.2.0",
            "_model_name": "LayoutModel",
            "_view_count": null,
            "_view_module": "@jupyter-widgets/base",
            "_view_module_version": "1.2.0",
            "_view_name": "LayoutView",
            "align_content": null,
            "align_items": null,
            "align_self": null,
            "border": null,
            "bottom": null,
            "display": null,
            "flex": null,
            "flex_flow": null,
            "grid_area": null,
            "grid_auto_columns": null,
            "grid_auto_flow": null,
            "grid_auto_rows": null,
            "grid_column": null,
            "grid_gap": null,
            "grid_row": null,
            "grid_template_areas": null,
            "grid_template_columns": null,
            "grid_template_rows": null,
            "height": null,
            "justify_content": null,
            "justify_items": null,
            "left": null,
            "margin": null,
            "max_height": null,
            "max_width": null,
            "min_height": null,
            "min_width": null,
            "object_fit": null,
            "object_position": null,
            "order": null,
            "overflow": null,
            "overflow_x": null,
            "overflow_y": null,
            "padding": null,
            "right": null,
            "top": null,
            "visibility": null,
            "width": null
          }
        },
        "367bfca2b4564d25940eb59adf8b88bb": {
          "model_module": "@jupyter-widgets/controls",
          "model_name": "DescriptionStyleModel",
          "model_module_version": "1.5.0",
          "state": {
            "_model_module": "@jupyter-widgets/controls",
            "_model_module_version": "1.5.0",
            "_model_name": "DescriptionStyleModel",
            "_view_count": null,
            "_view_module": "@jupyter-widgets/base",
            "_view_module_version": "1.2.0",
            "_view_name": "StyleView",
            "description_width": ""
          }
        },
        "b9da0162d2434e4096e84be9c4f3ef1f": {
          "model_module": "@jupyter-widgets/controls",
          "model_name": "HBoxModel",
          "model_module_version": "1.5.0",
          "state": {
            "_dom_classes": [],
            "_model_module": "@jupyter-widgets/controls",
            "_model_module_version": "1.5.0",
            "_model_name": "HBoxModel",
            "_view_count": null,
            "_view_module": "@jupyter-widgets/controls",
            "_view_module_version": "1.5.0",
            "_view_name": "HBoxView",
            "box_style": "",
            "children": [
              "IPY_MODEL_21737480cc174cd6884d3a6b465ede4d",
              "IPY_MODEL_4a9c30af1ddb495eb156ab44ab67a82c",
              "IPY_MODEL_a561b5f28c3d464ab9d53fbf63cdaddf"
            ],
            "layout": "IPY_MODEL_5540e8235b474ea2a8c53aa0021a7d5c"
          }
        },
        "21737480cc174cd6884d3a6b465ede4d": {
          "model_module": "@jupyter-widgets/controls",
          "model_name": "HTMLModel",
          "model_module_version": "1.5.0",
          "state": {
            "_dom_classes": [],
            "_model_module": "@jupyter-widgets/controls",
            "_model_module_version": "1.5.0",
            "_model_name": "HTMLModel",
            "_view_count": null,
            "_view_module": "@jupyter-widgets/controls",
            "_view_module_version": "1.5.0",
            "_view_name": "HTMLView",
            "description": "",
            "description_tooltip": null,
            "layout": "IPY_MODEL_22b9ae09a95649689b00396b4381f141",
            "placeholder": "​",
            "style": "IPY_MODEL_dd4bb7307d16452993c9d57e55d188a7",
            "value": "Downloading: 100%"
          }
        },
        "4a9c30af1ddb495eb156ab44ab67a82c": {
          "model_module": "@jupyter-widgets/controls",
          "model_name": "FloatProgressModel",
          "model_module_version": "1.5.0",
          "state": {
            "_dom_classes": [],
            "_model_module": "@jupyter-widgets/controls",
            "_model_module_version": "1.5.0",
            "_model_name": "FloatProgressModel",
            "_view_count": null,
            "_view_module": "@jupyter-widgets/controls",
            "_view_module_version": "1.5.0",
            "_view_name": "ProgressView",
            "bar_style": "success",
            "description": "",
            "description_tooltip": null,
            "layout": "IPY_MODEL_1ffa53c2bc7b4a2eb577107c7cbf78f2",
            "max": 1186,
            "min": 0,
            "orientation": "horizontal",
            "style": "IPY_MODEL_54e1ef1528a84173a97e9a700cdca3f8",
            "value": 1186
          }
        },
        "a561b5f28c3d464ab9d53fbf63cdaddf": {
          "model_module": "@jupyter-widgets/controls",
          "model_name": "HTMLModel",
          "model_module_version": "1.5.0",
          "state": {
            "_dom_classes": [],
            "_model_module": "@jupyter-widgets/controls",
            "_model_module_version": "1.5.0",
            "_model_name": "HTMLModel",
            "_view_count": null,
            "_view_module": "@jupyter-widgets/controls",
            "_view_module_version": "1.5.0",
            "_view_name": "HTMLView",
            "description": "",
            "description_tooltip": null,
            "layout": "IPY_MODEL_06331a6047ba435aa283f5317d175957",
            "placeholder": "​",
            "style": "IPY_MODEL_5b99567507fb46c59404457a08125839",
            "value": " 1.16k/1.16k [00:00&lt;00:00, 30.9kB/s]"
          }
        },
        "5540e8235b474ea2a8c53aa0021a7d5c": {
          "model_module": "@jupyter-widgets/base",
          "model_name": "LayoutModel",
          "model_module_version": "1.2.0",
          "state": {
            "_model_module": "@jupyter-widgets/base",
            "_model_module_version": "1.2.0",
            "_model_name": "LayoutModel",
            "_view_count": null,
            "_view_module": "@jupyter-widgets/base",
            "_view_module_version": "1.2.0",
            "_view_name": "LayoutView",
            "align_content": null,
            "align_items": null,
            "align_self": null,
            "border": null,
            "bottom": null,
            "display": null,
            "flex": null,
            "flex_flow": null,
            "grid_area": null,
            "grid_auto_columns": null,
            "grid_auto_flow": null,
            "grid_auto_rows": null,
            "grid_column": null,
            "grid_gap": null,
            "grid_row": null,
            "grid_template_areas": null,
            "grid_template_columns": null,
            "grid_template_rows": null,
            "height": null,
            "justify_content": null,
            "justify_items": null,
            "left": null,
            "margin": null,
            "max_height": null,
            "max_width": null,
            "min_height": null,
            "min_width": null,
            "object_fit": null,
            "object_position": null,
            "order": null,
            "overflow": null,
            "overflow_x": null,
            "overflow_y": null,
            "padding": null,
            "right": null,
            "top": null,
            "visibility": null,
            "width": null
          }
        },
        "22b9ae09a95649689b00396b4381f141": {
          "model_module": "@jupyter-widgets/base",
          "model_name": "LayoutModel",
          "model_module_version": "1.2.0",
          "state": {
            "_model_module": "@jupyter-widgets/base",
            "_model_module_version": "1.2.0",
            "_model_name": "LayoutModel",
            "_view_count": null,
            "_view_module": "@jupyter-widgets/base",
            "_view_module_version": "1.2.0",
            "_view_name": "LayoutView",
            "align_content": null,
            "align_items": null,
            "align_self": null,
            "border": null,
            "bottom": null,
            "display": null,
            "flex": null,
            "flex_flow": null,
            "grid_area": null,
            "grid_auto_columns": null,
            "grid_auto_flow": null,
            "grid_auto_rows": null,
            "grid_column": null,
            "grid_gap": null,
            "grid_row": null,
            "grid_template_areas": null,
            "grid_template_columns": null,
            "grid_template_rows": null,
            "height": null,
            "justify_content": null,
            "justify_items": null,
            "left": null,
            "margin": null,
            "max_height": null,
            "max_width": null,
            "min_height": null,
            "min_width": null,
            "object_fit": null,
            "object_position": null,
            "order": null,
            "overflow": null,
            "overflow_x": null,
            "overflow_y": null,
            "padding": null,
            "right": null,
            "top": null,
            "visibility": null,
            "width": null
          }
        },
        "dd4bb7307d16452993c9d57e55d188a7": {
          "model_module": "@jupyter-widgets/controls",
          "model_name": "DescriptionStyleModel",
          "model_module_version": "1.5.0",
          "state": {
            "_model_module": "@jupyter-widgets/controls",
            "_model_module_version": "1.5.0",
            "_model_name": "DescriptionStyleModel",
            "_view_count": null,
            "_view_module": "@jupyter-widgets/base",
            "_view_module_version": "1.2.0",
            "_view_name": "StyleView",
            "description_width": ""
          }
        },
        "1ffa53c2bc7b4a2eb577107c7cbf78f2": {
          "model_module": "@jupyter-widgets/base",
          "model_name": "LayoutModel",
          "model_module_version": "1.2.0",
          "state": {
            "_model_module": "@jupyter-widgets/base",
            "_model_module_version": "1.2.0",
            "_model_name": "LayoutModel",
            "_view_count": null,
            "_view_module": "@jupyter-widgets/base",
            "_view_module_version": "1.2.0",
            "_view_name": "LayoutView",
            "align_content": null,
            "align_items": null,
            "align_self": null,
            "border": null,
            "bottom": null,
            "display": null,
            "flex": null,
            "flex_flow": null,
            "grid_area": null,
            "grid_auto_columns": null,
            "grid_auto_flow": null,
            "grid_auto_rows": null,
            "grid_column": null,
            "grid_gap": null,
            "grid_row": null,
            "grid_template_areas": null,
            "grid_template_columns": null,
            "grid_template_rows": null,
            "height": null,
            "justify_content": null,
            "justify_items": null,
            "left": null,
            "margin": null,
            "max_height": null,
            "max_width": null,
            "min_height": null,
            "min_width": null,
            "object_fit": null,
            "object_position": null,
            "order": null,
            "overflow": null,
            "overflow_x": null,
            "overflow_y": null,
            "padding": null,
            "right": null,
            "top": null,
            "visibility": null,
            "width": null
          }
        },
        "54e1ef1528a84173a97e9a700cdca3f8": {
          "model_module": "@jupyter-widgets/controls",
          "model_name": "ProgressStyleModel",
          "model_module_version": "1.5.0",
          "state": {
            "_model_module": "@jupyter-widgets/controls",
            "_model_module_version": "1.5.0",
            "_model_name": "ProgressStyleModel",
            "_view_count": null,
            "_view_module": "@jupyter-widgets/base",
            "_view_module_version": "1.2.0",
            "_view_name": "StyleView",
            "bar_color": null,
            "description_width": ""
          }
        },
        "06331a6047ba435aa283f5317d175957": {
          "model_module": "@jupyter-widgets/base",
          "model_name": "LayoutModel",
          "model_module_version": "1.2.0",
          "state": {
            "_model_module": "@jupyter-widgets/base",
            "_model_module_version": "1.2.0",
            "_model_name": "LayoutModel",
            "_view_count": null,
            "_view_module": "@jupyter-widgets/base",
            "_view_module_version": "1.2.0",
            "_view_name": "LayoutView",
            "align_content": null,
            "align_items": null,
            "align_self": null,
            "border": null,
            "bottom": null,
            "display": null,
            "flex": null,
            "flex_flow": null,
            "grid_area": null,
            "grid_auto_columns": null,
            "grid_auto_flow": null,
            "grid_auto_rows": null,
            "grid_column": null,
            "grid_gap": null,
            "grid_row": null,
            "grid_template_areas": null,
            "grid_template_columns": null,
            "grid_template_rows": null,
            "height": null,
            "justify_content": null,
            "justify_items": null,
            "left": null,
            "margin": null,
            "max_height": null,
            "max_width": null,
            "min_height": null,
            "min_width": null,
            "object_fit": null,
            "object_position": null,
            "order": null,
            "overflow": null,
            "overflow_x": null,
            "overflow_y": null,
            "padding": null,
            "right": null,
            "top": null,
            "visibility": null,
            "width": null
          }
        },
        "5b99567507fb46c59404457a08125839": {
          "model_module": "@jupyter-widgets/controls",
          "model_name": "DescriptionStyleModel",
          "model_module_version": "1.5.0",
          "state": {
            "_model_module": "@jupyter-widgets/controls",
            "_model_module_version": "1.5.0",
            "_model_name": "DescriptionStyleModel",
            "_view_count": null,
            "_view_module": "@jupyter-widgets/base",
            "_view_module_version": "1.2.0",
            "_view_name": "StyleView",
            "description_width": ""
          }
        },
        "3c330f006f424330a2966c7702496429": {
          "model_module": "@jupyter-widgets/controls",
          "model_name": "HBoxModel",
          "model_module_version": "1.5.0",
          "state": {
            "_dom_classes": [],
            "_model_module": "@jupyter-widgets/controls",
            "_model_module_version": "1.5.0",
            "_model_name": "HBoxModel",
            "_view_count": null,
            "_view_module": "@jupyter-widgets/controls",
            "_view_module_version": "1.5.0",
            "_view_name": "HBoxView",
            "box_style": "",
            "children": [
              "IPY_MODEL_6d118aa805a948d1bea4069cad5468b9",
              "IPY_MODEL_f1c8713e8b524cf6bcbfe5364bb6a09f",
              "IPY_MODEL_05149a84cf0649f0850da750772d8908"
            ],
            "layout": "IPY_MODEL_4ef34510873548aba983343aac651e95"
          }
        },
        "6d118aa805a948d1bea4069cad5468b9": {
          "model_module": "@jupyter-widgets/controls",
          "model_name": "HTMLModel",
          "model_module_version": "1.5.0",
          "state": {
            "_dom_classes": [],
            "_model_module": "@jupyter-widgets/controls",
            "_model_module_version": "1.5.0",
            "_model_name": "HTMLModel",
            "_view_count": null,
            "_view_module": "@jupyter-widgets/controls",
            "_view_module_version": "1.5.0",
            "_view_name": "HTMLView",
            "description": "",
            "description_tooltip": null,
            "layout": "IPY_MODEL_a173b60079de47f7a28d92e30a3fe72a",
            "placeholder": "​",
            "style": "IPY_MODEL_da8c08bffd0a4935bab197c9c0ef8195",
            "value": "Downloading: 100%"
          }
        },
        "f1c8713e8b524cf6bcbfe5364bb6a09f": {
          "model_module": "@jupyter-widgets/controls",
          "model_name": "FloatProgressModel",
          "model_module_version": "1.5.0",
          "state": {
            "_dom_classes": [],
            "_model_module": "@jupyter-widgets/controls",
            "_model_module_version": "1.5.0",
            "_model_name": "FloatProgressModel",
            "_view_count": null,
            "_view_module": "@jupyter-widgets/controls",
            "_view_module_version": "1.5.0",
            "_view_name": "ProgressView",
            "bar_style": "success",
            "description": "",
            "description_tooltip": null,
            "layout": "IPY_MODEL_f26b2fc564b4407e982c96616c2fe01c",
            "max": 231536,
            "min": 0,
            "orientation": "horizontal",
            "style": "IPY_MODEL_ec8fd0a1d8a34af1a90dea8bdd3c4883",
            "value": 231536
          }
        },
        "05149a84cf0649f0850da750772d8908": {
          "model_module": "@jupyter-widgets/controls",
          "model_name": "HTMLModel",
          "model_module_version": "1.5.0",
          "state": {
            "_dom_classes": [],
            "_model_module": "@jupyter-widgets/controls",
            "_model_module_version": "1.5.0",
            "_model_name": "HTMLModel",
            "_view_count": null,
            "_view_module": "@jupyter-widgets/controls",
            "_view_module_version": "1.5.0",
            "_view_name": "HTMLView",
            "description": "",
            "description_tooltip": null,
            "layout": "IPY_MODEL_515a190e7312496db44c99f9b6d63f28",
            "placeholder": "​",
            "style": "IPY_MODEL_a0f8d1a1c06d49b7a967dac0c81b8f9b",
            "value": " 226k/226k [00:00&lt;00:00, 817kB/s]"
          }
        },
        "4ef34510873548aba983343aac651e95": {
          "model_module": "@jupyter-widgets/base",
          "model_name": "LayoutModel",
          "model_module_version": "1.2.0",
          "state": {
            "_model_module": "@jupyter-widgets/base",
            "_model_module_version": "1.2.0",
            "_model_name": "LayoutModel",
            "_view_count": null,
            "_view_module": "@jupyter-widgets/base",
            "_view_module_version": "1.2.0",
            "_view_name": "LayoutView",
            "align_content": null,
            "align_items": null,
            "align_self": null,
            "border": null,
            "bottom": null,
            "display": null,
            "flex": null,
            "flex_flow": null,
            "grid_area": null,
            "grid_auto_columns": null,
            "grid_auto_flow": null,
            "grid_auto_rows": null,
            "grid_column": null,
            "grid_gap": null,
            "grid_row": null,
            "grid_template_areas": null,
            "grid_template_columns": null,
            "grid_template_rows": null,
            "height": null,
            "justify_content": null,
            "justify_items": null,
            "left": null,
            "margin": null,
            "max_height": null,
            "max_width": null,
            "min_height": null,
            "min_width": null,
            "object_fit": null,
            "object_position": null,
            "order": null,
            "overflow": null,
            "overflow_x": null,
            "overflow_y": null,
            "padding": null,
            "right": null,
            "top": null,
            "visibility": null,
            "width": null
          }
        },
        "a173b60079de47f7a28d92e30a3fe72a": {
          "model_module": "@jupyter-widgets/base",
          "model_name": "LayoutModel",
          "model_module_version": "1.2.0",
          "state": {
            "_model_module": "@jupyter-widgets/base",
            "_model_module_version": "1.2.0",
            "_model_name": "LayoutModel",
            "_view_count": null,
            "_view_module": "@jupyter-widgets/base",
            "_view_module_version": "1.2.0",
            "_view_name": "LayoutView",
            "align_content": null,
            "align_items": null,
            "align_self": null,
            "border": null,
            "bottom": null,
            "display": null,
            "flex": null,
            "flex_flow": null,
            "grid_area": null,
            "grid_auto_columns": null,
            "grid_auto_flow": null,
            "grid_auto_rows": null,
            "grid_column": null,
            "grid_gap": null,
            "grid_row": null,
            "grid_template_areas": null,
            "grid_template_columns": null,
            "grid_template_rows": null,
            "height": null,
            "justify_content": null,
            "justify_items": null,
            "left": null,
            "margin": null,
            "max_height": null,
            "max_width": null,
            "min_height": null,
            "min_width": null,
            "object_fit": null,
            "object_position": null,
            "order": null,
            "overflow": null,
            "overflow_x": null,
            "overflow_y": null,
            "padding": null,
            "right": null,
            "top": null,
            "visibility": null,
            "width": null
          }
        },
        "da8c08bffd0a4935bab197c9c0ef8195": {
          "model_module": "@jupyter-widgets/controls",
          "model_name": "DescriptionStyleModel",
          "model_module_version": "1.5.0",
          "state": {
            "_model_module": "@jupyter-widgets/controls",
            "_model_module_version": "1.5.0",
            "_model_name": "DescriptionStyleModel",
            "_view_count": null,
            "_view_module": "@jupyter-widgets/base",
            "_view_module_version": "1.2.0",
            "_view_name": "StyleView",
            "description_width": ""
          }
        },
        "f26b2fc564b4407e982c96616c2fe01c": {
          "model_module": "@jupyter-widgets/base",
          "model_name": "LayoutModel",
          "model_module_version": "1.2.0",
          "state": {
            "_model_module": "@jupyter-widgets/base",
            "_model_module_version": "1.2.0",
            "_model_name": "LayoutModel",
            "_view_count": null,
            "_view_module": "@jupyter-widgets/base",
            "_view_module_version": "1.2.0",
            "_view_name": "LayoutView",
            "align_content": null,
            "align_items": null,
            "align_self": null,
            "border": null,
            "bottom": null,
            "display": null,
            "flex": null,
            "flex_flow": null,
            "grid_area": null,
            "grid_auto_columns": null,
            "grid_auto_flow": null,
            "grid_auto_rows": null,
            "grid_column": null,
            "grid_gap": null,
            "grid_row": null,
            "grid_template_areas": null,
            "grid_template_columns": null,
            "grid_template_rows": null,
            "height": null,
            "justify_content": null,
            "justify_items": null,
            "left": null,
            "margin": null,
            "max_height": null,
            "max_width": null,
            "min_height": null,
            "min_width": null,
            "object_fit": null,
            "object_position": null,
            "order": null,
            "overflow": null,
            "overflow_x": null,
            "overflow_y": null,
            "padding": null,
            "right": null,
            "top": null,
            "visibility": null,
            "width": null
          }
        },
        "ec8fd0a1d8a34af1a90dea8bdd3c4883": {
          "model_module": "@jupyter-widgets/controls",
          "model_name": "ProgressStyleModel",
          "model_module_version": "1.5.0",
          "state": {
            "_model_module": "@jupyter-widgets/controls",
            "_model_module_version": "1.5.0",
            "_model_name": "ProgressStyleModel",
            "_view_count": null,
            "_view_module": "@jupyter-widgets/base",
            "_view_module_version": "1.2.0",
            "_view_name": "StyleView",
            "bar_color": null,
            "description_width": ""
          }
        },
        "515a190e7312496db44c99f9b6d63f28": {
          "model_module": "@jupyter-widgets/base",
          "model_name": "LayoutModel",
          "model_module_version": "1.2.0",
          "state": {
            "_model_module": "@jupyter-widgets/base",
            "_model_module_version": "1.2.0",
            "_model_name": "LayoutModel",
            "_view_count": null,
            "_view_module": "@jupyter-widgets/base",
            "_view_module_version": "1.2.0",
            "_view_name": "LayoutView",
            "align_content": null,
            "align_items": null,
            "align_self": null,
            "border": null,
            "bottom": null,
            "display": null,
            "flex": null,
            "flex_flow": null,
            "grid_area": null,
            "grid_auto_columns": null,
            "grid_auto_flow": null,
            "grid_auto_rows": null,
            "grid_column": null,
            "grid_gap": null,
            "grid_row": null,
            "grid_template_areas": null,
            "grid_template_columns": null,
            "grid_template_rows": null,
            "height": null,
            "justify_content": null,
            "justify_items": null,
            "left": null,
            "margin": null,
            "max_height": null,
            "max_width": null,
            "min_height": null,
            "min_width": null,
            "object_fit": null,
            "object_position": null,
            "order": null,
            "overflow": null,
            "overflow_x": null,
            "overflow_y": null,
            "padding": null,
            "right": null,
            "top": null,
            "visibility": null,
            "width": null
          }
        },
        "a0f8d1a1c06d49b7a967dac0c81b8f9b": {
          "model_module": "@jupyter-widgets/controls",
          "model_name": "DescriptionStyleModel",
          "model_module_version": "1.5.0",
          "state": {
            "_model_module": "@jupyter-widgets/controls",
            "_model_module_version": "1.5.0",
            "_model_name": "DescriptionStyleModel",
            "_view_count": null,
            "_view_module": "@jupyter-widgets/base",
            "_view_module_version": "1.2.0",
            "_view_name": "StyleView",
            "description_width": ""
          }
        },
        "c7e416c5740a4f8ab29da97f41af5d31": {
          "model_module": "@jupyter-widgets/controls",
          "model_name": "HBoxModel",
          "model_module_version": "1.5.0",
          "state": {
            "_dom_classes": [],
            "_model_module": "@jupyter-widgets/controls",
            "_model_module_version": "1.5.0",
            "_model_name": "HBoxModel",
            "_view_count": null,
            "_view_module": "@jupyter-widgets/controls",
            "_view_module_version": "1.5.0",
            "_view_name": "HBoxView",
            "box_style": "",
            "children": [
              "IPY_MODEL_50916db3122d442f9ab2c097a384a82f",
              "IPY_MODEL_a4e6a31818fb466685280ae553eee8cd",
              "IPY_MODEL_ea6eefda849c4b7d950eab779434de4c"
            ],
            "layout": "IPY_MODEL_57ce3eb80e5c44fdaf11c6d3cb3213dc"
          }
        },
        "50916db3122d442f9ab2c097a384a82f": {
          "model_module": "@jupyter-widgets/controls",
          "model_name": "HTMLModel",
          "model_module_version": "1.5.0",
          "state": {
            "_dom_classes": [],
            "_model_module": "@jupyter-widgets/controls",
            "_model_module_version": "1.5.0",
            "_model_name": "HTMLModel",
            "_view_count": null,
            "_view_module": "@jupyter-widgets/controls",
            "_view_module_version": "1.5.0",
            "_view_name": "HTMLView",
            "description": "",
            "description_tooltip": null,
            "layout": "IPY_MODEL_e41c936718e7427ab8b78e614bb21f8f",
            "placeholder": "​",
            "style": "IPY_MODEL_6f6bef1c9d274159a5e4dc3de1b43046",
            "value": "Downloading: 100%"
          }
        },
        "a4e6a31818fb466685280ae553eee8cd": {
          "model_module": "@jupyter-widgets/controls",
          "model_name": "FloatProgressModel",
          "model_module_version": "1.5.0",
          "state": {
            "_dom_classes": [],
            "_model_module": "@jupyter-widgets/controls",
            "_model_module_version": "1.5.0",
            "_model_name": "FloatProgressModel",
            "_view_count": null,
            "_view_module": "@jupyter-widgets/controls",
            "_view_module_version": "1.5.0",
            "_view_name": "ProgressView",
            "bar_style": "success",
            "description": "",
            "description_tooltip": null,
            "layout": "IPY_MODEL_bf20e36b09cf4da487a399604b4db195",
            "max": 466166,
            "min": 0,
            "orientation": "horizontal",
            "style": "IPY_MODEL_c107217825d144499d147e9d39f47964",
            "value": 466166
          }
        },
        "ea6eefda849c4b7d950eab779434de4c": {
          "model_module": "@jupyter-widgets/controls",
          "model_name": "HTMLModel",
          "model_module_version": "1.5.0",
          "state": {
            "_dom_classes": [],
            "_model_module": "@jupyter-widgets/controls",
            "_model_module_version": "1.5.0",
            "_model_name": "HTMLModel",
            "_view_count": null,
            "_view_module": "@jupyter-widgets/controls",
            "_view_module_version": "1.5.0",
            "_view_name": "HTMLView",
            "description": "",
            "description_tooltip": null,
            "layout": "IPY_MODEL_0e8535e924504e7dba4c3ddf38b6a035",
            "placeholder": "​",
            "style": "IPY_MODEL_2af3565259f946c39ce881791bd9a62f",
            "value": " 455k/455k [00:00&lt;00:00, 992kB/s]"
          }
        },
        "57ce3eb80e5c44fdaf11c6d3cb3213dc": {
          "model_module": "@jupyter-widgets/base",
          "model_name": "LayoutModel",
          "model_module_version": "1.2.0",
          "state": {
            "_model_module": "@jupyter-widgets/base",
            "_model_module_version": "1.2.0",
            "_model_name": "LayoutModel",
            "_view_count": null,
            "_view_module": "@jupyter-widgets/base",
            "_view_module_version": "1.2.0",
            "_view_name": "LayoutView",
            "align_content": null,
            "align_items": null,
            "align_self": null,
            "border": null,
            "bottom": null,
            "display": null,
            "flex": null,
            "flex_flow": null,
            "grid_area": null,
            "grid_auto_columns": null,
            "grid_auto_flow": null,
            "grid_auto_rows": null,
            "grid_column": null,
            "grid_gap": null,
            "grid_row": null,
            "grid_template_areas": null,
            "grid_template_columns": null,
            "grid_template_rows": null,
            "height": null,
            "justify_content": null,
            "justify_items": null,
            "left": null,
            "margin": null,
            "max_height": null,
            "max_width": null,
            "min_height": null,
            "min_width": null,
            "object_fit": null,
            "object_position": null,
            "order": null,
            "overflow": null,
            "overflow_x": null,
            "overflow_y": null,
            "padding": null,
            "right": null,
            "top": null,
            "visibility": null,
            "width": null
          }
        },
        "e41c936718e7427ab8b78e614bb21f8f": {
          "model_module": "@jupyter-widgets/base",
          "model_name": "LayoutModel",
          "model_module_version": "1.2.0",
          "state": {
            "_model_module": "@jupyter-widgets/base",
            "_model_module_version": "1.2.0",
            "_model_name": "LayoutModel",
            "_view_count": null,
            "_view_module": "@jupyter-widgets/base",
            "_view_module_version": "1.2.0",
            "_view_name": "LayoutView",
            "align_content": null,
            "align_items": null,
            "align_self": null,
            "border": null,
            "bottom": null,
            "display": null,
            "flex": null,
            "flex_flow": null,
            "grid_area": null,
            "grid_auto_columns": null,
            "grid_auto_flow": null,
            "grid_auto_rows": null,
            "grid_column": null,
            "grid_gap": null,
            "grid_row": null,
            "grid_template_areas": null,
            "grid_template_columns": null,
            "grid_template_rows": null,
            "height": null,
            "justify_content": null,
            "justify_items": null,
            "left": null,
            "margin": null,
            "max_height": null,
            "max_width": null,
            "min_height": null,
            "min_width": null,
            "object_fit": null,
            "object_position": null,
            "order": null,
            "overflow": null,
            "overflow_x": null,
            "overflow_y": null,
            "padding": null,
            "right": null,
            "top": null,
            "visibility": null,
            "width": null
          }
        },
        "6f6bef1c9d274159a5e4dc3de1b43046": {
          "model_module": "@jupyter-widgets/controls",
          "model_name": "DescriptionStyleModel",
          "model_module_version": "1.5.0",
          "state": {
            "_model_module": "@jupyter-widgets/controls",
            "_model_module_version": "1.5.0",
            "_model_name": "DescriptionStyleModel",
            "_view_count": null,
            "_view_module": "@jupyter-widgets/base",
            "_view_module_version": "1.2.0",
            "_view_name": "StyleView",
            "description_width": ""
          }
        },
        "bf20e36b09cf4da487a399604b4db195": {
          "model_module": "@jupyter-widgets/base",
          "model_name": "LayoutModel",
          "model_module_version": "1.2.0",
          "state": {
            "_model_module": "@jupyter-widgets/base",
            "_model_module_version": "1.2.0",
            "_model_name": "LayoutModel",
            "_view_count": null,
            "_view_module": "@jupyter-widgets/base",
            "_view_module_version": "1.2.0",
            "_view_name": "LayoutView",
            "align_content": null,
            "align_items": null,
            "align_self": null,
            "border": null,
            "bottom": null,
            "display": null,
            "flex": null,
            "flex_flow": null,
            "grid_area": null,
            "grid_auto_columns": null,
            "grid_auto_flow": null,
            "grid_auto_rows": null,
            "grid_column": null,
            "grid_gap": null,
            "grid_row": null,
            "grid_template_areas": null,
            "grid_template_columns": null,
            "grid_template_rows": null,
            "height": null,
            "justify_content": null,
            "justify_items": null,
            "left": null,
            "margin": null,
            "max_height": null,
            "max_width": null,
            "min_height": null,
            "min_width": null,
            "object_fit": null,
            "object_position": null,
            "order": null,
            "overflow": null,
            "overflow_x": null,
            "overflow_y": null,
            "padding": null,
            "right": null,
            "top": null,
            "visibility": null,
            "width": null
          }
        },
        "c107217825d144499d147e9d39f47964": {
          "model_module": "@jupyter-widgets/controls",
          "model_name": "ProgressStyleModel",
          "model_module_version": "1.5.0",
          "state": {
            "_model_module": "@jupyter-widgets/controls",
            "_model_module_version": "1.5.0",
            "_model_name": "ProgressStyleModel",
            "_view_count": null,
            "_view_module": "@jupyter-widgets/base",
            "_view_module_version": "1.2.0",
            "_view_name": "StyleView",
            "bar_color": null,
            "description_width": ""
          }
        },
        "0e8535e924504e7dba4c3ddf38b6a035": {
          "model_module": "@jupyter-widgets/base",
          "model_name": "LayoutModel",
          "model_module_version": "1.2.0",
          "state": {
            "_model_module": "@jupyter-widgets/base",
            "_model_module_version": "1.2.0",
            "_model_name": "LayoutModel",
            "_view_count": null,
            "_view_module": "@jupyter-widgets/base",
            "_view_module_version": "1.2.0",
            "_view_name": "LayoutView",
            "align_content": null,
            "align_items": null,
            "align_self": null,
            "border": null,
            "bottom": null,
            "display": null,
            "flex": null,
            "flex_flow": null,
            "grid_area": null,
            "grid_auto_columns": null,
            "grid_auto_flow": null,
            "grid_auto_rows": null,
            "grid_column": null,
            "grid_gap": null,
            "grid_row": null,
            "grid_template_areas": null,
            "grid_template_columns": null,
            "grid_template_rows": null,
            "height": null,
            "justify_content": null,
            "justify_items": null,
            "left": null,
            "margin": null,
            "max_height": null,
            "max_width": null,
            "min_height": null,
            "min_width": null,
            "object_fit": null,
            "object_position": null,
            "order": null,
            "overflow": null,
            "overflow_x": null,
            "overflow_y": null,
            "padding": null,
            "right": null,
            "top": null,
            "visibility": null,
            "width": null
          }
        },
        "2af3565259f946c39ce881791bd9a62f": {
          "model_module": "@jupyter-widgets/controls",
          "model_name": "DescriptionStyleModel",
          "model_module_version": "1.5.0",
          "state": {
            "_model_module": "@jupyter-widgets/controls",
            "_model_module_version": "1.5.0",
            "_model_name": "DescriptionStyleModel",
            "_view_count": null,
            "_view_module": "@jupyter-widgets/base",
            "_view_module_version": "1.2.0",
            "_view_name": "StyleView",
            "description_width": ""
          }
        },
        "2e85de5352464c16abccbceb21a80905": {
          "model_module": "@jupyter-widgets/controls",
          "model_name": "HBoxModel",
          "model_module_version": "1.5.0",
          "state": {
            "_dom_classes": [],
            "_model_module": "@jupyter-widgets/controls",
            "_model_module_version": "1.5.0",
            "_model_name": "HBoxModel",
            "_view_count": null,
            "_view_module": "@jupyter-widgets/controls",
            "_view_module_version": "1.5.0",
            "_view_name": "HBoxView",
            "box_style": "",
            "children": [
              "IPY_MODEL_9084fa154a6e4869ae7bdc457a8c12ae",
              "IPY_MODEL_e856b593f2704492af6e79a2ccda31b5",
              "IPY_MODEL_aa204cf63977470baeef48a1cbf188bd"
            ],
            "layout": "IPY_MODEL_a2547f038fa54048b0dc31d3d10b6084"
          }
        },
        "9084fa154a6e4869ae7bdc457a8c12ae": {
          "model_module": "@jupyter-widgets/controls",
          "model_name": "HTMLModel",
          "model_module_version": "1.5.0",
          "state": {
            "_dom_classes": [],
            "_model_module": "@jupyter-widgets/controls",
            "_model_module_version": "1.5.0",
            "_model_name": "HTMLModel",
            "_view_count": null,
            "_view_module": "@jupyter-widgets/controls",
            "_view_module_version": "1.5.0",
            "_view_name": "HTMLView",
            "description": "",
            "description_tooltip": null,
            "layout": "IPY_MODEL_a672b2c1e63845e985990d6dde476663",
            "placeholder": "​",
            "style": "IPY_MODEL_1241104d3e1e4cdb91befaf12236c4e5",
            "value": "Downloading: 100%"
          }
        },
        "e856b593f2704492af6e79a2ccda31b5": {
          "model_module": "@jupyter-widgets/controls",
          "model_name": "FloatProgressModel",
          "model_module_version": "1.5.0",
          "state": {
            "_dom_classes": [],
            "_model_module": "@jupyter-widgets/controls",
            "_model_module_version": "1.5.0",
            "_model_name": "FloatProgressModel",
            "_view_count": null,
            "_view_module": "@jupyter-widgets/controls",
            "_view_module_version": "1.5.0",
            "_view_name": "ProgressView",
            "bar_style": "success",
            "description": "",
            "description_tooltip": null,
            "layout": "IPY_MODEL_af75913803724c38b90123a668ca2a8e",
            "max": 239,
            "min": 0,
            "orientation": "horizontal",
            "style": "IPY_MODEL_9a6fc076e21c41e39558342e1d06b63b",
            "value": 239
          }
        },
        "aa204cf63977470baeef48a1cbf188bd": {
          "model_module": "@jupyter-widgets/controls",
          "model_name": "HTMLModel",
          "model_module_version": "1.5.0",
          "state": {
            "_dom_classes": [],
            "_model_module": "@jupyter-widgets/controls",
            "_model_module_version": "1.5.0",
            "_model_name": "HTMLModel",
            "_view_count": null,
            "_view_module": "@jupyter-widgets/controls",
            "_view_module_version": "1.5.0",
            "_view_name": "HTMLView",
            "description": "",
            "description_tooltip": null,
            "layout": "IPY_MODEL_8b9c64a16e5241baa43f95a2a4d0f8d4",
            "placeholder": "​",
            "style": "IPY_MODEL_89775a05276c4d838135bf11903a5177",
            "value": " 239/239 [00:00&lt;00:00, 6.85kB/s]"
          }
        },
        "a2547f038fa54048b0dc31d3d10b6084": {
          "model_module": "@jupyter-widgets/base",
          "model_name": "LayoutModel",
          "model_module_version": "1.2.0",
          "state": {
            "_model_module": "@jupyter-widgets/base",
            "_model_module_version": "1.2.0",
            "_model_name": "LayoutModel",
            "_view_count": null,
            "_view_module": "@jupyter-widgets/base",
            "_view_module_version": "1.2.0",
            "_view_name": "LayoutView",
            "align_content": null,
            "align_items": null,
            "align_self": null,
            "border": null,
            "bottom": null,
            "display": null,
            "flex": null,
            "flex_flow": null,
            "grid_area": null,
            "grid_auto_columns": null,
            "grid_auto_flow": null,
            "grid_auto_rows": null,
            "grid_column": null,
            "grid_gap": null,
            "grid_row": null,
            "grid_template_areas": null,
            "grid_template_columns": null,
            "grid_template_rows": null,
            "height": null,
            "justify_content": null,
            "justify_items": null,
            "left": null,
            "margin": null,
            "max_height": null,
            "max_width": null,
            "min_height": null,
            "min_width": null,
            "object_fit": null,
            "object_position": null,
            "order": null,
            "overflow": null,
            "overflow_x": null,
            "overflow_y": null,
            "padding": null,
            "right": null,
            "top": null,
            "visibility": null,
            "width": null
          }
        },
        "a672b2c1e63845e985990d6dde476663": {
          "model_module": "@jupyter-widgets/base",
          "model_name": "LayoutModel",
          "model_module_version": "1.2.0",
          "state": {
            "_model_module": "@jupyter-widgets/base",
            "_model_module_version": "1.2.0",
            "_model_name": "LayoutModel",
            "_view_count": null,
            "_view_module": "@jupyter-widgets/base",
            "_view_module_version": "1.2.0",
            "_view_name": "LayoutView",
            "align_content": null,
            "align_items": null,
            "align_self": null,
            "border": null,
            "bottom": null,
            "display": null,
            "flex": null,
            "flex_flow": null,
            "grid_area": null,
            "grid_auto_columns": null,
            "grid_auto_flow": null,
            "grid_auto_rows": null,
            "grid_column": null,
            "grid_gap": null,
            "grid_row": null,
            "grid_template_areas": null,
            "grid_template_columns": null,
            "grid_template_rows": null,
            "height": null,
            "justify_content": null,
            "justify_items": null,
            "left": null,
            "margin": null,
            "max_height": null,
            "max_width": null,
            "min_height": null,
            "min_width": null,
            "object_fit": null,
            "object_position": null,
            "order": null,
            "overflow": null,
            "overflow_x": null,
            "overflow_y": null,
            "padding": null,
            "right": null,
            "top": null,
            "visibility": null,
            "width": null
          }
        },
        "1241104d3e1e4cdb91befaf12236c4e5": {
          "model_module": "@jupyter-widgets/controls",
          "model_name": "DescriptionStyleModel",
          "model_module_version": "1.5.0",
          "state": {
            "_model_module": "@jupyter-widgets/controls",
            "_model_module_version": "1.5.0",
            "_model_name": "DescriptionStyleModel",
            "_view_count": null,
            "_view_module": "@jupyter-widgets/base",
            "_view_module_version": "1.2.0",
            "_view_name": "StyleView",
            "description_width": ""
          }
        },
        "af75913803724c38b90123a668ca2a8e": {
          "model_module": "@jupyter-widgets/base",
          "model_name": "LayoutModel",
          "model_module_version": "1.2.0",
          "state": {
            "_model_module": "@jupyter-widgets/base",
            "_model_module_version": "1.2.0",
            "_model_name": "LayoutModel",
            "_view_count": null,
            "_view_module": "@jupyter-widgets/base",
            "_view_module_version": "1.2.0",
            "_view_name": "LayoutView",
            "align_content": null,
            "align_items": null,
            "align_self": null,
            "border": null,
            "bottom": null,
            "display": null,
            "flex": null,
            "flex_flow": null,
            "grid_area": null,
            "grid_auto_columns": null,
            "grid_auto_flow": null,
            "grid_auto_rows": null,
            "grid_column": null,
            "grid_gap": null,
            "grid_row": null,
            "grid_template_areas": null,
            "grid_template_columns": null,
            "grid_template_rows": null,
            "height": null,
            "justify_content": null,
            "justify_items": null,
            "left": null,
            "margin": null,
            "max_height": null,
            "max_width": null,
            "min_height": null,
            "min_width": null,
            "object_fit": null,
            "object_position": null,
            "order": null,
            "overflow": null,
            "overflow_x": null,
            "overflow_y": null,
            "padding": null,
            "right": null,
            "top": null,
            "visibility": null,
            "width": null
          }
        },
        "9a6fc076e21c41e39558342e1d06b63b": {
          "model_module": "@jupyter-widgets/controls",
          "model_name": "ProgressStyleModel",
          "model_module_version": "1.5.0",
          "state": {
            "_model_module": "@jupyter-widgets/controls",
            "_model_module_version": "1.5.0",
            "_model_name": "ProgressStyleModel",
            "_view_count": null,
            "_view_module": "@jupyter-widgets/base",
            "_view_module_version": "1.2.0",
            "_view_name": "StyleView",
            "bar_color": null,
            "description_width": ""
          }
        },
        "8b9c64a16e5241baa43f95a2a4d0f8d4": {
          "model_module": "@jupyter-widgets/base",
          "model_name": "LayoutModel",
          "model_module_version": "1.2.0",
          "state": {
            "_model_module": "@jupyter-widgets/base",
            "_model_module_version": "1.2.0",
            "_model_name": "LayoutModel",
            "_view_count": null,
            "_view_module": "@jupyter-widgets/base",
            "_view_module_version": "1.2.0",
            "_view_name": "LayoutView",
            "align_content": null,
            "align_items": null,
            "align_self": null,
            "border": null,
            "bottom": null,
            "display": null,
            "flex": null,
            "flex_flow": null,
            "grid_area": null,
            "grid_auto_columns": null,
            "grid_auto_flow": null,
            "grid_auto_rows": null,
            "grid_column": null,
            "grid_gap": null,
            "grid_row": null,
            "grid_template_areas": null,
            "grid_template_columns": null,
            "grid_template_rows": null,
            "height": null,
            "justify_content": null,
            "justify_items": null,
            "left": null,
            "margin": null,
            "max_height": null,
            "max_width": null,
            "min_height": null,
            "min_width": null,
            "object_fit": null,
            "object_position": null,
            "order": null,
            "overflow": null,
            "overflow_x": null,
            "overflow_y": null,
            "padding": null,
            "right": null,
            "top": null,
            "visibility": null,
            "width": null
          }
        },
        "89775a05276c4d838135bf11903a5177": {
          "model_module": "@jupyter-widgets/controls",
          "model_name": "DescriptionStyleModel",
          "model_module_version": "1.5.0",
          "state": {
            "_model_module": "@jupyter-widgets/controls",
            "_model_module_version": "1.5.0",
            "_model_name": "DescriptionStyleModel",
            "_view_count": null,
            "_view_module": "@jupyter-widgets/base",
            "_view_module_version": "1.2.0",
            "_view_name": "StyleView",
            "description_width": ""
          }
        }
      }
    },
    "accelerator": "GPU"
  },
  "cells": [
    {
      "cell_type": "code",
      "execution_count": null,
      "metadata": {
        "id": "PS97Ceom8m8T"
      },
      "outputs": [],
      "source": [
        "# function for multiple pdfs  -- done\n",
        "# function for websites -- done"
      ]
    },
    {
      "cell_type": "markdown",
      "source": [
        "## With multiple PDFs"
      ],
      "metadata": {
        "id": "4lc3fpcTIzUn"
      }
    },
    {
      "cell_type": "code",
      "source": [
        "%%capture\n",
        "import nltk\n",
        "nltk.download('punkt')"
      ],
      "metadata": {
        "id": "wLPh7lUQ83Qm"
      },
      "execution_count": null,
      "outputs": []
    },
    {
      "cell_type": "code",
      "source": [
        "%%capture\n",
        "!pip install git+https://github.com/neuml/txtai"
      ],
      "metadata": {
        "id": "1KwYWoYQ9C7b"
      },
      "execution_count": null,
      "outputs": []
    },
    {
      "cell_type": "code",
      "source": [
        "%%capture\n",
        "!pip install txtai[pipeline]"
      ],
      "metadata": {
        "id": "UjVWj77M9G3n"
      },
      "execution_count": null,
      "outputs": []
    },
    {
      "cell_type": "code",
      "source": [
        "%%capture\n",
        "!pip install Pillow==9.0.0"
      ],
      "metadata": {
        "id": "bds4rlWK-ZZQ"
      },
      "execution_count": null,
      "outputs": []
    },
    {
      "cell_type": "code",
      "source": [
        "%%capture\n",
        "from txtai.pipeline import Textractor"
      ],
      "metadata": {
        "id": "nDGdjvGa9H7R"
      },
      "execution_count": null,
      "outputs": []
    },
    {
      "cell_type": "code",
      "source": [
        "num_pdf = int(input(\"Enter number of files - \"))"
      ],
      "metadata": {
        "colab": {
          "base_uri": "https://localhost:8080/"
        },
        "id": "Ue66Vap_9jFi",
        "outputId": "a9688b7f-687d-49a4-f04b-a1e209f14ce1"
      },
      "execution_count": null,
      "outputs": [
        {
          "name": "stdout",
          "output_type": "stream",
          "text": [
            "Enter number of files - 2\n"
          ]
        }
      ]
    },
    {
      "cell_type": "code",
      "source": [
        "locations_max = []\n",
        "for i in range (num_pdf):\n",
        "  location = input(\"Enter the path - \")\n",
        "  locations_max.append(location)\n",
        "print(locations_max)"
      ],
      "metadata": {
        "colab": {
          "base_uri": "https://localhost:8080/"
        },
        "id": "rn0wN2dE9rgQ",
        "outputId": "d00fa56b-5d72-48b3-d7bd-d89cc1f98053"
      },
      "execution_count": null,
      "outputs": [
        {
          "output_type": "stream",
          "name": "stdout",
          "text": [
            "Enter the path - /content/drive/MyDrive/Vruksh_eco/txt_ai/pdfs_exp/real-life-applications-of-data-science-in-education.pdf\n",
            "Enter the path - /content/drive/MyDrive/Vruksh_eco/txt_ai/pdfs_exp/time-series-forecasting-codes-python.pdf\n",
            "['/content/drive/MyDrive/Vruksh_eco/txt_ai/pdfs_exp/real-life-applications-of-data-science-in-education.pdf', '/content/drive/MyDrive/Vruksh_eco/txt_ai/pdfs_exp/time-series-forecasting-codes-python.pdf']\n"
          ]
        }
      ]
    },
    {
      "cell_type": "code",
      "source": [
        "textract = Textractor(sentences=True)"
      ],
      "metadata": {
        "id": "37g0m7Ig9fDc"
      },
      "execution_count": null,
      "outputs": []
    },
    {
      "cell_type": "code",
      "source": [
        "data_lines = []\n",
        "for i in (locations_max):\n",
        "  print(i)\n",
        "  print()\n",
        "  lines = textract(i)\n",
        "  data_lines.append(lines)"
      ],
      "metadata": {
        "colab": {
          "base_uri": "https://localhost:8080/"
        },
        "id": "IAzZRtTWAD6y",
        "outputId": "e844b846-7e27-48c2-d25c-f2592040411f"
      },
      "execution_count": null,
      "outputs": [
        {
          "output_type": "stream",
          "name": "stdout",
          "text": [
            "/content/drive/MyDrive/Vruksh_eco/txt_ai/pdfs_exp/real-life-applications-of-data-science-in-education.pdf\n",
            "\n",
            "/content/drive/MyDrive/Vruksh_eco/txt_ai/pdfs_exp/time-series-forecasting-codes-python.pdf\n",
            "\n"
          ]
        }
      ]
    },
    {
      "cell_type": "code",
      "source": [
        "len(data_lines)"
      ],
      "metadata": {
        "colab": {
          "base_uri": "https://localhost:8080/"
        },
        "id": "3jUc5eAkC19W",
        "outputId": "7e5e2c2d-5853-4f3e-d677-58d4a60cacd9"
      },
      "execution_count": null,
      "outputs": [
        {
          "output_type": "execute_result",
          "data": {
            "text/plain": [
              "2"
            ]
          },
          "metadata": {},
          "execution_count": 55
        }
      ]
    },
    {
      "cell_type": "code",
      "source": [
        "len(data_lines[0])"
      ],
      "metadata": {
        "colab": {
          "base_uri": "https://localhost:8080/"
        },
        "id": "nBVuE78dD-6I",
        "outputId": "0f5fb403-6f51-4756-b1c6-ff747ef0825d"
      },
      "execution_count": null,
      "outputs": [
        {
          "output_type": "execute_result",
          "data": {
            "text/plain": [
              "102"
            ]
          },
          "metadata": {},
          "execution_count": 56
        }
      ]
    },
    {
      "cell_type": "code",
      "source": [
        "len(data_lines[1])"
      ],
      "metadata": {
        "colab": {
          "base_uri": "https://localhost:8080/"
        },
        "id": "Q59775E5GHda",
        "outputId": "22f92ab3-9c27-4fd6-d04b-18843ef00134"
      },
      "execution_count": null,
      "outputs": [
        {
          "output_type": "execute_result",
          "data": {
            "text/plain": [
              "270"
            ]
          },
          "metadata": {},
          "execution_count": 57
        }
      ]
    },
    {
      "cell_type": "code",
      "source": [
        "from functools import reduce\n"
      ],
      "metadata": {
        "id": "8qy4UJAAEw3l"
      },
      "execution_count": null,
      "outputs": []
    },
    {
      "cell_type": "code",
      "source": [
        "data_lines = reduce(lambda x, y: [x] + y if not isinstance(x, list) else (x + [y] if not isinstance(y, list) else x + y), data_lines)"
      ],
      "metadata": {
        "id": "UbqrhJKwFlsq"
      },
      "execution_count": null,
      "outputs": []
    },
    {
      "cell_type": "code",
      "source": [
        "len(data_lines)"
      ],
      "metadata": {
        "colab": {
          "base_uri": "https://localhost:8080/"
        },
        "id": "hGeFi_vWFwEp",
        "outputId": "60b59c92-7396-42f0-8185-72a380132fed"
      },
      "execution_count": null,
      "outputs": [
        {
          "output_type": "execute_result",
          "data": {
            "text/plain": [
              "372"
            ]
          },
          "metadata": {},
          "execution_count": 60
        }
      ]
    },
    {
      "cell_type": "code",
      "source": [
        "from txtai.embeddings import Embeddings\n",
        "\n",
        "# Create embeddings model, backed by sentence-transformers & transformers\n",
        "embeddings = Embeddings({\"path\": \"sentence-transformers/nli-mpnet-base-v2\"})"
      ],
      "metadata": {
        "colab": {
          "base_uri": "https://localhost:8080/",
          "height": 209,
          "referenced_widgets": [
            "d8afa050923e4d9ca99889bf96341a33",
            "c1a8f9e5d9764e0c85b1bea0f3a22334",
            "74c48c8f3f624a85b8756e6591ea8463",
            "cbda70ca736c4389963eb78632ed86d2",
            "b782a58452b84baca38487b9eea8000f",
            "98819256b587488eb1537c2e9146115e",
            "abc46ff8ef794e4cb0b3eea586fc6f2e",
            "fb5d4344f8c14bbc9386c838ca0e1e0f",
            "03e290fe51584d029c7cb9f96e0e9d99",
            "6de8d44e235e44169a3b319bc0bbdb16",
            "c3f3621aa5254e87b17d3e7d89314e9f",
            "4997c748763248dda0633bfb70dd479b",
            "38a61a1644bc42bd805da7b7638db81e",
            "0cdcd2002d2b4d129eef5eb26a641883",
            "b0a962a818aa43648d4be7f6c063c305",
            "3bf7a4ea071148509a690a82a20ca967",
            "4804d1d0acda4d5cb2e40ee6571a7a0c",
            "763179ded4264bfda76ff7b2f81032f5",
            "0b7f044057e64705a61e460d318fb433",
            "6c898b7ddea54edb8c5ecf03f8a5c18d",
            "a25008677ec747bd83b86186c9853a73",
            "367bfca2b4564d25940eb59adf8b88bb",
            "b9da0162d2434e4096e84be9c4f3ef1f",
            "21737480cc174cd6884d3a6b465ede4d",
            "4a9c30af1ddb495eb156ab44ab67a82c",
            "a561b5f28c3d464ab9d53fbf63cdaddf",
            "5540e8235b474ea2a8c53aa0021a7d5c",
            "22b9ae09a95649689b00396b4381f141",
            "dd4bb7307d16452993c9d57e55d188a7",
            "1ffa53c2bc7b4a2eb577107c7cbf78f2",
            "54e1ef1528a84173a97e9a700cdca3f8",
            "06331a6047ba435aa283f5317d175957",
            "5b99567507fb46c59404457a08125839",
            "3c330f006f424330a2966c7702496429",
            "6d118aa805a948d1bea4069cad5468b9",
            "f1c8713e8b524cf6bcbfe5364bb6a09f",
            "05149a84cf0649f0850da750772d8908",
            "4ef34510873548aba983343aac651e95",
            "a173b60079de47f7a28d92e30a3fe72a",
            "da8c08bffd0a4935bab197c9c0ef8195",
            "f26b2fc564b4407e982c96616c2fe01c",
            "ec8fd0a1d8a34af1a90dea8bdd3c4883",
            "515a190e7312496db44c99f9b6d63f28",
            "a0f8d1a1c06d49b7a967dac0c81b8f9b",
            "c7e416c5740a4f8ab29da97f41af5d31",
            "50916db3122d442f9ab2c097a384a82f",
            "a4e6a31818fb466685280ae553eee8cd",
            "ea6eefda849c4b7d950eab779434de4c",
            "57ce3eb80e5c44fdaf11c6d3cb3213dc",
            "e41c936718e7427ab8b78e614bb21f8f",
            "6f6bef1c9d274159a5e4dc3de1b43046",
            "bf20e36b09cf4da487a399604b4db195",
            "c107217825d144499d147e9d39f47964",
            "0e8535e924504e7dba4c3ddf38b6a035",
            "2af3565259f946c39ce881791bd9a62f",
            "2e85de5352464c16abccbceb21a80905",
            "9084fa154a6e4869ae7bdc457a8c12ae",
            "e856b593f2704492af6e79a2ccda31b5",
            "aa204cf63977470baeef48a1cbf188bd",
            "a2547f038fa54048b0dc31d3d10b6084",
            "a672b2c1e63845e985990d6dde476663",
            "1241104d3e1e4cdb91befaf12236c4e5",
            "af75913803724c38b90123a668ca2a8e",
            "9a6fc076e21c41e39558342e1d06b63b",
            "8b9c64a16e5241baa43f95a2a4d0f8d4",
            "89775a05276c4d838135bf11903a5177"
          ]
        },
        "id": "pGk5EnYPF_uQ",
        "outputId": "cedf3485-6e9d-4161-af23-62508b86e605"
      },
      "execution_count": null,
      "outputs": [
        {
          "output_type": "display_data",
          "data": {
            "text/plain": [
              "Downloading:   0%|          | 0.00/587 [00:00<?, ?B/s]"
            ],
            "application/vnd.jupyter.widget-view+json": {
              "version_major": 2,
              "version_minor": 0,
              "model_id": "d8afa050923e4d9ca99889bf96341a33"
            }
          },
          "metadata": {}
        },
        {
          "output_type": "display_data",
          "data": {
            "text/plain": [
              "Downloading:   0%|          | 0.00/418M [00:00<?, ?B/s]"
            ],
            "application/vnd.jupyter.widget-view+json": {
              "version_major": 2,
              "version_minor": 0,
              "model_id": "4997c748763248dda0633bfb70dd479b"
            }
          },
          "metadata": {}
        },
        {
          "output_type": "display_data",
          "data": {
            "text/plain": [
              "Downloading:   0%|          | 0.00/1.16k [00:00<?, ?B/s]"
            ],
            "application/vnd.jupyter.widget-view+json": {
              "version_major": 2,
              "version_minor": 0,
              "model_id": "b9da0162d2434e4096e84be9c4f3ef1f"
            }
          },
          "metadata": {}
        },
        {
          "output_type": "display_data",
          "data": {
            "text/plain": [
              "Downloading:   0%|          | 0.00/226k [00:00<?, ?B/s]"
            ],
            "application/vnd.jupyter.widget-view+json": {
              "version_major": 2,
              "version_minor": 0,
              "model_id": "3c330f006f424330a2966c7702496429"
            }
          },
          "metadata": {}
        },
        {
          "output_type": "display_data",
          "data": {
            "text/plain": [
              "Downloading:   0%|          | 0.00/455k [00:00<?, ?B/s]"
            ],
            "application/vnd.jupyter.widget-view+json": {
              "version_major": 2,
              "version_minor": 0,
              "model_id": "c7e416c5740a4f8ab29da97f41af5d31"
            }
          },
          "metadata": {}
        },
        {
          "output_type": "display_data",
          "data": {
            "text/plain": [
              "Downloading:   0%|          | 0.00/239 [00:00<?, ?B/s]"
            ],
            "application/vnd.jupyter.widget-view+json": {
              "version_major": 2,
              "version_minor": 0,
              "model_id": "2e85de5352464c16abccbceb21a80905"
            }
          },
          "metadata": {}
        }
      ]
    },
    {
      "cell_type": "code",
      "source": [
        "quer = 'what is the use of Datascience in education?'"
      ],
      "metadata": {
        "id": "vjpXpb0qGa6g"
      },
      "execution_count": null,
      "outputs": []
    },
    {
      "cell_type": "code",
      "source": [
        "%%time\n",
        "seq = embeddings.similarity(quer, data_lines)"
      ],
      "metadata": {
        "colab": {
          "base_uri": "https://localhost:8080/"
        },
        "id": "nsmyfLhhGhic",
        "outputId": "4b54bf9f-1a67-4974-f5b1-17f2299ae867"
      },
      "execution_count": null,
      "outputs": [
        {
          "output_type": "stream",
          "name": "stdout",
          "text": [
            "CPU times: user 55.4 s, sys: 749 ms, total: 56.2 s\n",
            "Wall time: 56.2 s\n"
          ]
        }
      ]
    },
    {
      "cell_type": "code",
      "source": [
        "three_most = seq[0:3]\n",
        "three_most"
      ],
      "metadata": {
        "colab": {
          "base_uri": "https://localhost:8080/"
        },
        "id": "TT1tDV8WGp2N",
        "outputId": "26ff1ecd-5b27-40a5-dc31-2610d51300b3"
      },
      "execution_count": null,
      "outputs": [
        {
          "output_type": "execute_result",
          "data": {
            "text/plain": [
              "[(31, 0.7973760962486267), (30, 0.7939728498458862), (24, 0.7833536863327026)]"
            ]
          },
          "metadata": {},
          "execution_count": 67
        }
      ]
    },
    {
      "cell_type": "code",
      "source": [
        "indexes = []\n",
        "for i in three_most:\n",
        "  indexes.append(i[0])\n",
        "  \n",
        "indexes"
      ],
      "metadata": {
        "colab": {
          "base_uri": "https://localhost:8080/"
        },
        "id": "Sf38-34rHbs1",
        "outputId": "a8991cc5-0ce8-43f3-983f-045c93b7bd74"
      },
      "execution_count": null,
      "outputs": [
        {
          "output_type": "execute_result",
          "data": {
            "text/plain": [
              "[31, 30, 24]"
            ]
          },
          "metadata": {},
          "execution_count": 68
        }
      ]
    },
    {
      "cell_type": "code",
      "source": [
        "for j in indexes:\n",
        "    print(j, data_lines[j] )"
      ],
      "metadata": {
        "colab": {
          "base_uri": "https://localhost:8080/"
        },
        "id": "YKbYBvMiHepq",
        "outputId": "b155b5f0-ecb5-4801-9452-beb69a5ab632"
      },
      "execution_count": null,
      "outputs": [
        {
          "output_type": "stream",
          "name": "stdout",
          "text": [
            "31 Let us find various applications in which data science in education could be used.\n",
            "30 Applications of Data Science in Education Now that we understand how data science is contributing to the education industry.\n",
            "24 Educational data science will encourage educators to include data visualization, data reduction and description, and prediction tasks.\n"
          ]
        }
      ]
    },
    {
      "cell_type": "code",
      "source": [
        ""
      ],
      "metadata": {
        "id": "n7956GHaITOs"
      },
      "execution_count": null,
      "outputs": []
    },
    {
      "cell_type": "markdown",
      "source": [
        "## With webpages"
      ],
      "metadata": {
        "id": "XkDE9CFYI4UM"
      }
    },
    {
      "cell_type": "code",
      "source": [
        "import bs4 as bs\n",
        "import urllib.request\n",
        "import re"
      ],
      "metadata": {
        "id": "kIckI9ktI7ao"
      },
      "execution_count": null,
      "outputs": []
    },
    {
      "cell_type": "code",
      "source": [
        "num_link = int(input(\"Enter number of Links - \"))"
      ],
      "metadata": {
        "colab": {
          "base_uri": "https://localhost:8080/"
        },
        "id": "YD6G03mAurBZ",
        "outputId": "9c763818-55db-40eb-82cf-49d6329b96e6"
      },
      "execution_count": null,
      "outputs": [
        {
          "name": "stdout",
          "output_type": "stream",
          "text": [
            "Enter number of Links - 2\n"
          ]
        }
      ]
    },
    {
      "cell_type": "code",
      "source": [
        "# https://learnpython.com/blog/python-numpy-basics/\n",
        "# https://www.nature.com/articles/s41586-020-2649-2"
      ],
      "metadata": {
        "id": "PRPw-98pwvE-"
      },
      "execution_count": null,
      "outputs": []
    },
    {
      "cell_type": "code",
      "source": [
        "locations_max = []\n",
        "for i in range (num_link):\n",
        "  link = input(\"Enter the Required Link:  \")\n",
        "  locations_max.append(link)"
      ],
      "metadata": {
        "colab": {
          "base_uri": "https://localhost:8080/"
        },
        "id": "FXSPh1GHvx6x",
        "outputId": "3d4089ff-00ac-4ff4-f69f-18ac595f4577"
      },
      "execution_count": null,
      "outputs": [
        {
          "name": "stdout",
          "output_type": "stream",
          "text": [
            "Enter the Required Link:  https://www.geeksforgeeks.org/introduction-machine-learning/?ref=lbp\n",
            "Enter the Required Link:  https://www.ibm.com/in-en/cloud/learn/machine-learning\n"
          ]
        }
      ]
    },
    {
      "cell_type": "code",
      "source": [
        "textract = Textractor(sentences=True)"
      ],
      "metadata": {
        "id": "Pk9ahAjIvzGR"
      },
      "execution_count": null,
      "outputs": []
    },
    {
      "cell_type": "code",
      "source": [
        "%%time\n",
        "data_lines = []\n",
        "article_text = \" \"\n",
        "for i in (locations_max):\n",
        "  print(i)\n",
        "  scraped_data = urllib.request.urlopen(i)\n",
        "  article = scraped_data.read()\n",
        "  parsed_article = bs.BeautifulSoup(article,'lxml')\n",
        "  paragraphs = parsed_article.find_all('p')\n",
        "  for p in paragraphs:\n",
        "    article_text += p.text\n",
        "  lines = textract(i)\n",
        "  if len(lines)>=10:\n",
        "    data_lines.append(lines)\n",
        "  print(data_lines)"
      ],
      "metadata": {
        "colab": {
          "base_uri": "https://localhost:8080/"
        },
        "id": "ItzOiGM2wQPG",
        "outputId": "d2891adf-f6ef-4248-c3e3-38cebb4b8a1c"
      },
      "execution_count": null,
      "outputs": [
        {
          "output_type": "stream",
          "name": "stdout",
          "text": [
            "https://www.geeksforgeeks.org/introduction-machine-learning/?ref=lbp\n",
            "[[\"An introduction to Machine Learning - GeeksforGeeks Skip to content Courses For Working Professionals LIVE DSA Live Classes System Design Java Backend Development Full Stack LIVE Explore More Self-Paced DSA- Self Paced SDE Theory Must-Do Coding Questions Explore More For Students LIVE Competitive Programming Data Structures with C++ Data Science Explore More Self-Paced DSA- Self Paced CIP JAVA / Python / C++ Explore More School Courses School Guide Python Programming Learn To Make Apps Explore more All Courses Tutorials Algorithms Analysis of Algorithms Asymptotic Analysis Worst, Average and Best Cases Asymptotic Notations Little o and little omega notations Lower and Upper Bound Theory Analysis of Loops Solving Recurrences Amortized Analysis What does 'Space Complexity' mean ?\", 'Pseudo-polynomial Algorithms Polynomial Time Approximation Scheme A Time Complexity Question Searching Algorithms Sorting Algorithms Graph Algorithms Pattern Searching Geometric Algorithms Mathematical Bitwise Algorithms Randomized Algorithms Greedy Algorithms Dynamic Programming Divide and Conquer Backtracking Branch and Bound All Algorithms Data Structures Arrays Linked List Stack Queue Binary Tree Binary Search Tree Heap Hashing Graph Advanced Data Structure Matrix Strings All Data Structures Interview Corner Company Preparation Top Topics Practice Company Questions Interview Experiences Experienced Interviews Internship Interviews Competititve Programming Design Patterns System Design Tutorial Multiple Choice Quizzes Languages C C++ Java Python C# JavaScript jQuery SQL PHP Scala Perl Go Language HTML CSS Kotlin ML & Data Science Machine Learning Data Science CS Subjects Mathematics Operating System DBMS Computer Networks Computer Organization and Architecture Theory of Computation Compiler Design Digital Logic Software Engineering GATE GATE Computer Science Notes Last Minute Notes GATE CS Solved Papers GATE CS Original Papers and Official Keys GATE 2021 Dates GATE CS 2021 Syllabus Important Topics for GATE CS Web Technologies HTML CSS JavaScript AngularJS ReactJS NodeJS Bootstrap jQuery PHP Software Designs Software Design Patterns System Design Tutorial School Learning School Programming Mathematics Number System Algebra Trigonometry Statistics Probability Geometry Mensuration Calculus Maths Notes (Class 8-12) Class 8 Notes Class 9 Notes Class 10 Notes Class 11 Notes Class 12 Notes NCERT Solutions Class 8 Maths Solution Class 9 Maths Solution Class 10 Maths Solution Class 11 Maths Solution Class 12 Maths Solution RD Sharma Solutions Class 8 Maths Solution Class 9 Maths Solution Class 10 Maths Solution Class 11 Maths Solution Class 12 Maths Solution Physics Notes (Class 8-11) Class 8 Notes Class 9 Notes Class 10 Notes Class 11 Notes Chemistry Notes Class 8 Notes Class 9 Notes Class 10 Notes CS Exams/PSUs ISRO ISRO CS Original Papers and Official Keys ISRO CS Solved Papers ISRO CS Syllabus for Scientist/Engineer Exam UGC NET UGC NET CS Notes Paper II UGC NET CS Notes Paper III UGC NET CS Solved Papers Student Campus Ambassador Program School Ambassador Program Project Geek of the Month Campus Geek of the Month Placement Course Competititve Programming Testimonials Student Chapter Geek on the Top Internship Careers Jobs Apply for Jobs Post a Job Hire with Us Know about Jobathon Jobathon Practice All DSA Problems Problem of the Day Interview Series: Weekly Contests Bi-Wizard Coding: School Contests Contests and Events Practice SDE Sheet Curated DSA Lists Top 50 Array Problems Top 50 String Problems Top 50 Tree Problems Top 50 Graph Problems Top 50 DP Problems Write Come write articles for us and get featured Practice Learn and code with the best industry experts Premium Get access to ad-free content, doubt assistance and more!', \"Jobs Come and find your dream job with us Geeks Digest Quizzes Geeks Campus Gblog Articles IDE Campus Mantri Home Saved Videos Courses GBlog Puzzles What's New ?\", 'Change Language Data Structures Algorithms Interview Preparation Topic-wise Practice C++ Java Python Competitive Programming Machine Learning HTML SDE Sheet Puzzles GFG School Projects Related Articles ▲ Related Articles Boosting in Machine Learning | Boosting and AdaBoost ML | XGBoost (eXtreme Gradient Boosting) XGBoost for Regression ML | Introduction to Transfer Learning Learning Model Building in Scikit-learn : A Python Machine Learning Library Getting started with Machine Learning An introduction to Machine Learning ML | What is Machine Learning ?', 'ML | Introduction to Data in Machine Learning Demystifying Machine Learning Machine Learning – Applications Best Python libraries for Machine Learning Decision Tree Introduction with example Decision Tree Python | Decision tree implementation Python | Decision Tree Regression using sklearn Random Forest Regression in Python Ensemble Classifier | Data Mining ML | Voting Classifier using Sklearn ML | Bagging classifier Naive Bayes Classifiers Removing stop words with NLTK in Python Linear Regression (Python Implementation) Apriori Algorithm Supervised and Unsupervised learning Reinforcement learning ML | Linear Regression Table of Contents Boosting in Machine Learning | Boosting and AdaBoost ML | XGBoost (eXtreme Gradient Boosting) XGBoost for Regression ML | Introduction to Transfer Learning Learning Model Building in Scikit-learn : A Python Machine Learning Library Getting started with Machine Learning An introduction to Machine Learning ML | What is Machine Learning ?', 'ML | Introduction to Data in Machine Learning Demystifying Machine Learning Machine Learning – Applications Best Python libraries for Machine Learning Decision Tree Introduction with example Decision Tree Python | Decision tree implementation Python | Decision Tree Regression using sklearn Random Forest Regression in Python Ensemble Classifier | Data Mining ML | Voting Classifier using Sklearn ML | Bagging classifier Naive Bayes Classifiers Removing stop words with NLTK in Python Linear Regression (Python Implementation) Apriori Algorithm Supervised and Unsupervised learning Reinforcement learning ML | Linear Regression An introduction to Machine Learning View Discussion Improve Article Save Article Like Article Difficulty Level : Easy Last Updated : 16 Jun, 2022 The term Machine Learning was coined by Arthur Samuel 1959, an American pioneer in the field of computer gaming and artificial intelligence, and stated that “it gives computers the ability to learn without being explicitly programmed”.', 'And in 1997, Tom Mitchell gave a “well-posed” mathematical and relational definition that “A computer program is said to learn from experience E concerning some task T and some performance measure P, if its performance on T, as measured by P, improves with experience E”.', 'In 1957, Frank Rosenblatt – at the Cornell Aeronautical Laboratory – combined Donald Hebb’s model of brain cell interaction with Arthur Samuel’s machine learning efforts and created the perceptron.', 'The perceptron was initially planned as a machine, not a program.', 'Machine Learning is the latest buzzword floating around.', 'It deserves to, as it is one of the most interesting subfields of Computer Science.', 'So what does Machine Learning mean?', 'Let’s try to understand Machine Learning in layman’s terms.', 'Consider you are trying to throw a paper into a dustbin.', 'After the first attempt, you realize that you have put too much force into it.', 'After the second attempt, you realize you are closer to the target but you need to increase your throw angle.', 'What is happening here is basically after every throw we are learning something and improving the result.', 'We are programmed to learn from our experiences.', 'This implies that the tasks in which machine learning is concerned offer a fundamentally operational definition rather than defining the field in cognitive terms.', 'This follows Alan Turing’s proposal in his paper “Computing Machinery and Intelligence”, in which the question “Can machines think?” is replaced with the question “Can machines do what we (as thinking entities) can do?” Within the field of data analytics, machine learning is used to devise complex models and algorithms that lend themselves to prediction; in commercial use, this is known as predictive analytics.', 'These analytical models allow researchers, data scientists, engineers, and analysts to “produce reliable, repeatable decisions and results” and uncover “hidden insights” through learning from historical relationships and trends in the data set(input).', 'Suppose that you decide to check out that offer for a vacation.', 'You browse through the travel agency website and search for a hotel.', 'When you look at a specific hotel, just below the hotel description there is a section titled “You might also like these hotels”.', 'This is a common use case of Machine Learning called “Recommendation Engine”.', 'Again, many data points were used to train a model to predict what will be the best hotels to show you under that section, based on a lot of information they already know about you.', 'So if you want your program to predict, for example, traffic patterns at a busy intersection (task T), you can run it through a machine learning algorithm with data about past traffic patterns (experience E) and, if it has successfully “learned”, it will then do better at predicting future traffic patterns (performance measure P).', 'The highly complex nature of many real-world problems, though, often means that inventing specialized algorithms that will solve them perfectly every time is impractical, if not impossible.', 'Examples of machine learning problems include, “Is this cancer?”, “Which of these people are good friends of each other?”, “Will this person like this movie?” such problems are excellent targets for Machine Learning, and in fact, machine learning has been applied to such problems with great success.', 'Classification of Machine Learning Machine learning implementations are classified into four major categories, depending on the nature of the learning “signal” or “response” available to a learning system which are as follows: Supervised learning: When an algorithm learns from example data and associated target responses that can consist of numeric values or string labels, such as classes or tags, to later predict the correct response when posed with new examples that come under the category of Supervised learning.', 'This approach is indeed similar to human learning under the supervision of a teacher.', 'The teacher provides good examples for the student to memorize, and the student then derives general rules from these specific examples.', 'Unsupervised learning: Whereas when an algorithm learns from plain examples without any associated response, leaving the algorithm to determine the data patterns on its own.', 'This type of algorithm tends to restructure the data into something else, such as new features that may represent a class or a new series of un-correlated values.', 'They are quite useful in providing humans with insights into the meaning of data and new useful inputs to supervised machine learning algorithms.', 'As a kind of learning, it resembles the methods humans use to figure out that certain objects or events are from the same class, such as by observing the degree of similarity between objects.', 'Some recommendation systems that you find on the web in the form of marketing automation are based on this type of learning.', 'To know more about supervised and unsupervised learning refer to: –https://www.geeksforgeeks.org/supervised-unsupervised-learning/.', 'Reinforcement learning: When you present the algorithm with examples that lack labels, as in unsupervised learning.', 'However, you can accompany an example with positive or negative feedback according to the solution the algorithm proposes comes under the category of Reinforcement learning, which is connected to applications for which the algorithm must make decisions (so the product is prescriptive, not just descriptive, as in unsupervised learning), and the decisions bear consequences.', 'In the human world, it is just like learning by trial and error.', 'Errors help you learn because they have a penalty added (cost, loss of time, regret, pain, and so on), teaching you that a certain course of action is less likely to succeed than others.', 'An interesting example of reinforcement learning occurs when computers learn to play video games by themselves.', 'In this case, an application presents the algorithm with examples of specific situations, such as having the gamer stuck in a maze while avoiding an enemy.', 'The application lets the algorithm know the outcome of actions it takes, and learning occurs while trying to avoid what it discovers to be dangerous and to pursue survival.', 'You can have a look at how the company Google DeepMind has created a reinforcement learning program that plays old Atari video games.', 'When watching the video, notice how the program is initially clumsy and unskilled but steadily improves with training until it becomes a champion.', 'To know more about Reinforcement learning refer to –https://www.geeksforgeeks.org/what-is-reinforcement-learning/.', 'Semi-supervised learning: where an incomplete training signal is given: a training set with some (often many) of the target outputs missing.', 'There is a special case of this principle known as Transduction where the entire set of problem instances is known at learning time, except that part of the targets are missing.', 'Semi-supervised learning is an approach to machine learning that combines small labeled data with a large amount of unlabeled data during training.', 'Semi-supervised learning falls between unsupervised learning and supervised learning.', 'Categorizing based on required Output Another categorization of machine learning tasks arises when one considers the desired output of a machine-learned system: Classification: When inputs are divided into two or more classes, the learner must produce a model that assigns unseen inputs to one or more (multi-label classification) of these classes.', 'This is typically tackled in a supervised way.', 'Spam filtering is an example of classification, where the inputs are email (or other) messages and the classes are “spam” and “not spam”.', 'To know more about Classification, refer to –https://www.geeksforgeeks.org/regression-classification-supervised-machine-learning/ Regression: Which is also a supervised problem, A case when the outputs are continuous rather than discrete.', 'To know more about Classification, refer to –https://www.geeksforgeeks.org/regression-classification-supervised-machine-learning/ and https://www.geeksforgeeks.org/regression-classification-supervised-machine-learning/.', 'Clustering: When a set of inputs is to be divided into groups.', 'Unlike in classification, the groups are not known beforehand, making this typically an unsupervised task.', 'To know more about Classification, refer to –https://www.geeksforgeeks.org/clustering-in-machine-learning/ Machine Learning comes into the picture when problems cannot be solved using typical approaches.', 'ML algorithms combined with new computing technologies promote scalability and improve efficiency.', 'Modern ML models can be used to make predictions ranging from outbreaks of disease to the rise and fall of stocks.', 'This article is contributed by Siddharth Pandey.', 'If you like GeeksforGeeks and would like to contribute, you can also write an article using write.geeksforgeeks.org or mail your article to review-team@geeksforgeeks.org.', 'See your article appearing on the GeeksforGeeks main page and help other Geeks.', 'Please write comments if you find anything incorrect, or if you want to share more information about the topic discussed above.', 'GeeksforGeeks Courses Machine Learning Basic and Advanced – Self Paced Course In a technology driven world, everybody aspires to learn skills that industry demands.', 'You can start with our Machine Learning Self-Paced Course that not only provides you in-depth knowledge of the machine learning topics but introduces you to the real-world applications too.', 'So, what are you waiting for, just start from here.', 'My Personal Notes arrow_drop_up Save Like PreviousGetting started with Machine Learning Next ML | What is Machine Learning ?', 'Recommended Articles Page : Support vector machine in Machine Learning 20, Dec 20 Azure Virtual Machine for Machine Learning 06, Dec 19 Machine Learning Model with Teachable Machine 26, Feb 22 Learning Model Building in Scikit-learn : A Python Machine Learning Library 17, Feb 17 Artificial intelligence vs Machine Learning vs Deep Learning 23, Jan 19 How to Start Learning Machine Learning?', '11, Sep 19 Difference Between Artificial Intelligence vs Machine Learning vs Deep Learning 01, May 20 Need of Data Structures and Algorithms for Deep Learning and Machine Learning 14, Oct 20 Difference Between Machine Learning and Deep Learning 26, May 20 Introduction To Machine Learning using Python 04, May 17 ML | Introduction to Data in Machine Learning 01, May 18 Introduction to Quantum Machine Learning 10, Jul 20 Introduction to Multi-Task Learning(MTL) for Deep Learning 14, Nov 18 Machine Learning - Applications 11, Jan 16 Demystifying Machine Learning 02, May 16 Confusion Matrix in Machine Learning 15, Oct 17 Cross Validation in Machine Learning 21, Nov 17 How To Use Classification Machine Learning Algorithms in Weka ?', '04, May 21 Top 10 Apps Using Machine Learning in 2020 10, Apr 20 Machine Learning and Artificial Intelligence 23, Apr 18 ML | What is Machine Learning ?', '01, May 18 Decision Threshold In Machine Learning 04, Sep 20 Creating a simple machine learning model 13, Jun 18 seq2seq model in Machine Learning 05, Dec 18 Article Contributed By : GeeksforGeeks Vote for difficulty Current difficulty : Easy Easy Normal Medium Hard Expert Improved By : KEERTHIVASANK16BIT051 vaibhavsinghtanwar ychaubey231001 user_18tl raj2002 Article Tags : Advanced Computer Subject GBlog Machine Learning Practice Tags : Machine Learning Report Issue Writing code in comment?', 'Please use ide.geeksforgeeks.org, generate link and share the link here.', \"Load Comments What's New Machine Learning Foundation - Self Paced View Details Content Improvement League 2022 View Details Data Structures & Algorithms- Self Paced Course View Details Most popular in Advanced Computer Subject System Design Tutorial Docker - COPY Instruction Clustering in Machine Learning ML | Underfitting and Overfitting How to Run a Python Script using Docker?\", 'Most visited in GBlog DSA Sheet by Love Babbar Must Do Coding Questions for Companies like Amazon, Microsoft, Adobe, ... Back-End Developer Roadmap 2022 GET and POST requests using Python Top 50 Java Project Ideas For Beginners & Advanced Improve your Coding Skills with Practice Try It!', '5th Floor, A-118, Sector-136, Noida, Uttar Pradesh - 201305 feedback@geeksforgeeks.org Company About Us Careers In Media Contact Us Privacy Policy Copyright Policy Learn Algorithms Data Structures SDE Cheat Sheet Machine learning CS Subjects Video Tutorials Courses News Top News Technology Work & Career Business Finance Lifestyle Knowledge Languages Python Java CPP Golang C# SQL Kotlin Web Development Web Tutorials Django Tutorial HTML JavaScript Bootstrap ReactJS NodeJS Contribute Write an Article Improve an Article Pick Topics to Write Write Interview Experience Internships Video Internship @geeksforgeeks , Some rights reserved We use cookies to ensure you have the best browsing experience on our website.', 'By using our site, you acknowledge that you have read and understood our Cookie Policy & Privacy Policy Got It !', 'Start Your Coding Journey Now!', 'Login Register']]\n",
            "https://www.ibm.com/in-en/cloud/learn/machine-learning\n",
            "[[\"An introduction to Machine Learning - GeeksforGeeks Skip to content Courses For Working Professionals LIVE DSA Live Classes System Design Java Backend Development Full Stack LIVE Explore More Self-Paced DSA- Self Paced SDE Theory Must-Do Coding Questions Explore More For Students LIVE Competitive Programming Data Structures with C++ Data Science Explore More Self-Paced DSA- Self Paced CIP JAVA / Python / C++ Explore More School Courses School Guide Python Programming Learn To Make Apps Explore more All Courses Tutorials Algorithms Analysis of Algorithms Asymptotic Analysis Worst, Average and Best Cases Asymptotic Notations Little o and little omega notations Lower and Upper Bound Theory Analysis of Loops Solving Recurrences Amortized Analysis What does 'Space Complexity' mean ?\", 'Pseudo-polynomial Algorithms Polynomial Time Approximation Scheme A Time Complexity Question Searching Algorithms Sorting Algorithms Graph Algorithms Pattern Searching Geometric Algorithms Mathematical Bitwise Algorithms Randomized Algorithms Greedy Algorithms Dynamic Programming Divide and Conquer Backtracking Branch and Bound All Algorithms Data Structures Arrays Linked List Stack Queue Binary Tree Binary Search Tree Heap Hashing Graph Advanced Data Structure Matrix Strings All Data Structures Interview Corner Company Preparation Top Topics Practice Company Questions Interview Experiences Experienced Interviews Internship Interviews Competititve Programming Design Patterns System Design Tutorial Multiple Choice Quizzes Languages C C++ Java Python C# JavaScript jQuery SQL PHP Scala Perl Go Language HTML CSS Kotlin ML & Data Science Machine Learning Data Science CS Subjects Mathematics Operating System DBMS Computer Networks Computer Organization and Architecture Theory of Computation Compiler Design Digital Logic Software Engineering GATE GATE Computer Science Notes Last Minute Notes GATE CS Solved Papers GATE CS Original Papers and Official Keys GATE 2021 Dates GATE CS 2021 Syllabus Important Topics for GATE CS Web Technologies HTML CSS JavaScript AngularJS ReactJS NodeJS Bootstrap jQuery PHP Software Designs Software Design Patterns System Design Tutorial School Learning School Programming Mathematics Number System Algebra Trigonometry Statistics Probability Geometry Mensuration Calculus Maths Notes (Class 8-12) Class 8 Notes Class 9 Notes Class 10 Notes Class 11 Notes Class 12 Notes NCERT Solutions Class 8 Maths Solution Class 9 Maths Solution Class 10 Maths Solution Class 11 Maths Solution Class 12 Maths Solution RD Sharma Solutions Class 8 Maths Solution Class 9 Maths Solution Class 10 Maths Solution Class 11 Maths Solution Class 12 Maths Solution Physics Notes (Class 8-11) Class 8 Notes Class 9 Notes Class 10 Notes Class 11 Notes Chemistry Notes Class 8 Notes Class 9 Notes Class 10 Notes CS Exams/PSUs ISRO ISRO CS Original Papers and Official Keys ISRO CS Solved Papers ISRO CS Syllabus for Scientist/Engineer Exam UGC NET UGC NET CS Notes Paper II UGC NET CS Notes Paper III UGC NET CS Solved Papers Student Campus Ambassador Program School Ambassador Program Project Geek of the Month Campus Geek of the Month Placement Course Competititve Programming Testimonials Student Chapter Geek on the Top Internship Careers Jobs Apply for Jobs Post a Job Hire with Us Know about Jobathon Jobathon Practice All DSA Problems Problem of the Day Interview Series: Weekly Contests Bi-Wizard Coding: School Contests Contests and Events Practice SDE Sheet Curated DSA Lists Top 50 Array Problems Top 50 String Problems Top 50 Tree Problems Top 50 Graph Problems Top 50 DP Problems Write Come write articles for us and get featured Practice Learn and code with the best industry experts Premium Get access to ad-free content, doubt assistance and more!', \"Jobs Come and find your dream job with us Geeks Digest Quizzes Geeks Campus Gblog Articles IDE Campus Mantri Home Saved Videos Courses GBlog Puzzles What's New ?\", 'Change Language Data Structures Algorithms Interview Preparation Topic-wise Practice C++ Java Python Competitive Programming Machine Learning HTML SDE Sheet Puzzles GFG School Projects Related Articles ▲ Related Articles Boosting in Machine Learning | Boosting and AdaBoost ML | XGBoost (eXtreme Gradient Boosting) XGBoost for Regression ML | Introduction to Transfer Learning Learning Model Building in Scikit-learn : A Python Machine Learning Library Getting started with Machine Learning An introduction to Machine Learning ML | What is Machine Learning ?', 'ML | Introduction to Data in Machine Learning Demystifying Machine Learning Machine Learning – Applications Best Python libraries for Machine Learning Decision Tree Introduction with example Decision Tree Python | Decision tree implementation Python | Decision Tree Regression using sklearn Random Forest Regression in Python Ensemble Classifier | Data Mining ML | Voting Classifier using Sklearn ML | Bagging classifier Naive Bayes Classifiers Removing stop words with NLTK in Python Linear Regression (Python Implementation) Apriori Algorithm Supervised and Unsupervised learning Reinforcement learning ML | Linear Regression Table of Contents Boosting in Machine Learning | Boosting and AdaBoost ML | XGBoost (eXtreme Gradient Boosting) XGBoost for Regression ML | Introduction to Transfer Learning Learning Model Building in Scikit-learn : A Python Machine Learning Library Getting started with Machine Learning An introduction to Machine Learning ML | What is Machine Learning ?', 'ML | Introduction to Data in Machine Learning Demystifying Machine Learning Machine Learning – Applications Best Python libraries for Machine Learning Decision Tree Introduction with example Decision Tree Python | Decision tree implementation Python | Decision Tree Regression using sklearn Random Forest Regression in Python Ensemble Classifier | Data Mining ML | Voting Classifier using Sklearn ML | Bagging classifier Naive Bayes Classifiers Removing stop words with NLTK in Python Linear Regression (Python Implementation) Apriori Algorithm Supervised and Unsupervised learning Reinforcement learning ML | Linear Regression An introduction to Machine Learning View Discussion Improve Article Save Article Like Article Difficulty Level : Easy Last Updated : 16 Jun, 2022 The term Machine Learning was coined by Arthur Samuel 1959, an American pioneer in the field of computer gaming and artificial intelligence, and stated that “it gives computers the ability to learn without being explicitly programmed”.', 'And in 1997, Tom Mitchell gave a “well-posed” mathematical and relational definition that “A computer program is said to learn from experience E concerning some task T and some performance measure P, if its performance on T, as measured by P, improves with experience E”.', 'In 1957, Frank Rosenblatt – at the Cornell Aeronautical Laboratory – combined Donald Hebb’s model of brain cell interaction with Arthur Samuel’s machine learning efforts and created the perceptron.', 'The perceptron was initially planned as a machine, not a program.', 'Machine Learning is the latest buzzword floating around.', 'It deserves to, as it is one of the most interesting subfields of Computer Science.', 'So what does Machine Learning mean?', 'Let’s try to understand Machine Learning in layman’s terms.', 'Consider you are trying to throw a paper into a dustbin.', 'After the first attempt, you realize that you have put too much force into it.', 'After the second attempt, you realize you are closer to the target but you need to increase your throw angle.', 'What is happening here is basically after every throw we are learning something and improving the result.', 'We are programmed to learn from our experiences.', 'This implies that the tasks in which machine learning is concerned offer a fundamentally operational definition rather than defining the field in cognitive terms.', 'This follows Alan Turing’s proposal in his paper “Computing Machinery and Intelligence”, in which the question “Can machines think?” is replaced with the question “Can machines do what we (as thinking entities) can do?” Within the field of data analytics, machine learning is used to devise complex models and algorithms that lend themselves to prediction; in commercial use, this is known as predictive analytics.', 'These analytical models allow researchers, data scientists, engineers, and analysts to “produce reliable, repeatable decisions and results” and uncover “hidden insights” through learning from historical relationships and trends in the data set(input).', 'Suppose that you decide to check out that offer for a vacation.', 'You browse through the travel agency website and search for a hotel.', 'When you look at a specific hotel, just below the hotel description there is a section titled “You might also like these hotels”.', 'This is a common use case of Machine Learning called “Recommendation Engine”.', 'Again, many data points were used to train a model to predict what will be the best hotels to show you under that section, based on a lot of information they already know about you.', 'So if you want your program to predict, for example, traffic patterns at a busy intersection (task T), you can run it through a machine learning algorithm with data about past traffic patterns (experience E) and, if it has successfully “learned”, it will then do better at predicting future traffic patterns (performance measure P).', 'The highly complex nature of many real-world problems, though, often means that inventing specialized algorithms that will solve them perfectly every time is impractical, if not impossible.', 'Examples of machine learning problems include, “Is this cancer?”, “Which of these people are good friends of each other?”, “Will this person like this movie?” such problems are excellent targets for Machine Learning, and in fact, machine learning has been applied to such problems with great success.', 'Classification of Machine Learning Machine learning implementations are classified into four major categories, depending on the nature of the learning “signal” or “response” available to a learning system which are as follows: Supervised learning: When an algorithm learns from example data and associated target responses that can consist of numeric values or string labels, such as classes or tags, to later predict the correct response when posed with new examples that come under the category of Supervised learning.', 'This approach is indeed similar to human learning under the supervision of a teacher.', 'The teacher provides good examples for the student to memorize, and the student then derives general rules from these specific examples.', 'Unsupervised learning: Whereas when an algorithm learns from plain examples without any associated response, leaving the algorithm to determine the data patterns on its own.', 'This type of algorithm tends to restructure the data into something else, such as new features that may represent a class or a new series of un-correlated values.', 'They are quite useful in providing humans with insights into the meaning of data and new useful inputs to supervised machine learning algorithms.', 'As a kind of learning, it resembles the methods humans use to figure out that certain objects or events are from the same class, such as by observing the degree of similarity between objects.', 'Some recommendation systems that you find on the web in the form of marketing automation are based on this type of learning.', 'To know more about supervised and unsupervised learning refer to: –https://www.geeksforgeeks.org/supervised-unsupervised-learning/.', 'Reinforcement learning: When you present the algorithm with examples that lack labels, as in unsupervised learning.', 'However, you can accompany an example with positive or negative feedback according to the solution the algorithm proposes comes under the category of Reinforcement learning, which is connected to applications for which the algorithm must make decisions (so the product is prescriptive, not just descriptive, as in unsupervised learning), and the decisions bear consequences.', 'In the human world, it is just like learning by trial and error.', 'Errors help you learn because they have a penalty added (cost, loss of time, regret, pain, and so on), teaching you that a certain course of action is less likely to succeed than others.', 'An interesting example of reinforcement learning occurs when computers learn to play video games by themselves.', 'In this case, an application presents the algorithm with examples of specific situations, such as having the gamer stuck in a maze while avoiding an enemy.', 'The application lets the algorithm know the outcome of actions it takes, and learning occurs while trying to avoid what it discovers to be dangerous and to pursue survival.', 'You can have a look at how the company Google DeepMind has created a reinforcement learning program that plays old Atari video games.', 'When watching the video, notice how the program is initially clumsy and unskilled but steadily improves with training until it becomes a champion.', 'To know more about Reinforcement learning refer to –https://www.geeksforgeeks.org/what-is-reinforcement-learning/.', 'Semi-supervised learning: where an incomplete training signal is given: a training set with some (often many) of the target outputs missing.', 'There is a special case of this principle known as Transduction where the entire set of problem instances is known at learning time, except that part of the targets are missing.', 'Semi-supervised learning is an approach to machine learning that combines small labeled data with a large amount of unlabeled data during training.', 'Semi-supervised learning falls between unsupervised learning and supervised learning.', 'Categorizing based on required Output Another categorization of machine learning tasks arises when one considers the desired output of a machine-learned system: Classification: When inputs are divided into two or more classes, the learner must produce a model that assigns unseen inputs to one or more (multi-label classification) of these classes.', 'This is typically tackled in a supervised way.', 'Spam filtering is an example of classification, where the inputs are email (or other) messages and the classes are “spam” and “not spam”.', 'To know more about Classification, refer to –https://www.geeksforgeeks.org/regression-classification-supervised-machine-learning/ Regression: Which is also a supervised problem, A case when the outputs are continuous rather than discrete.', 'To know more about Classification, refer to –https://www.geeksforgeeks.org/regression-classification-supervised-machine-learning/ and https://www.geeksforgeeks.org/regression-classification-supervised-machine-learning/.', 'Clustering: When a set of inputs is to be divided into groups.', 'Unlike in classification, the groups are not known beforehand, making this typically an unsupervised task.', 'To know more about Classification, refer to –https://www.geeksforgeeks.org/clustering-in-machine-learning/ Machine Learning comes into the picture when problems cannot be solved using typical approaches.', 'ML algorithms combined with new computing technologies promote scalability and improve efficiency.', 'Modern ML models can be used to make predictions ranging from outbreaks of disease to the rise and fall of stocks.', 'This article is contributed by Siddharth Pandey.', 'If you like GeeksforGeeks and would like to contribute, you can also write an article using write.geeksforgeeks.org or mail your article to review-team@geeksforgeeks.org.', 'See your article appearing on the GeeksforGeeks main page and help other Geeks.', 'Please write comments if you find anything incorrect, or if you want to share more information about the topic discussed above.', 'GeeksforGeeks Courses Machine Learning Basic and Advanced – Self Paced Course In a technology driven world, everybody aspires to learn skills that industry demands.', 'You can start with our Machine Learning Self-Paced Course that not only provides you in-depth knowledge of the machine learning topics but introduces you to the real-world applications too.', 'So, what are you waiting for, just start from here.', 'My Personal Notes arrow_drop_up Save Like PreviousGetting started with Machine Learning Next ML | What is Machine Learning ?', 'Recommended Articles Page : Support vector machine in Machine Learning 20, Dec 20 Azure Virtual Machine for Machine Learning 06, Dec 19 Machine Learning Model with Teachable Machine 26, Feb 22 Learning Model Building in Scikit-learn : A Python Machine Learning Library 17, Feb 17 Artificial intelligence vs Machine Learning vs Deep Learning 23, Jan 19 How to Start Learning Machine Learning?', '11, Sep 19 Difference Between Artificial Intelligence vs Machine Learning vs Deep Learning 01, May 20 Need of Data Structures and Algorithms for Deep Learning and Machine Learning 14, Oct 20 Difference Between Machine Learning and Deep Learning 26, May 20 Introduction To Machine Learning using Python 04, May 17 ML | Introduction to Data in Machine Learning 01, May 18 Introduction to Quantum Machine Learning 10, Jul 20 Introduction to Multi-Task Learning(MTL) for Deep Learning 14, Nov 18 Machine Learning - Applications 11, Jan 16 Demystifying Machine Learning 02, May 16 Confusion Matrix in Machine Learning 15, Oct 17 Cross Validation in Machine Learning 21, Nov 17 How To Use Classification Machine Learning Algorithms in Weka ?', '04, May 21 Top 10 Apps Using Machine Learning in 2020 10, Apr 20 Machine Learning and Artificial Intelligence 23, Apr 18 ML | What is Machine Learning ?', '01, May 18 Decision Threshold In Machine Learning 04, Sep 20 Creating a simple machine learning model 13, Jun 18 seq2seq model in Machine Learning 05, Dec 18 Article Contributed By : GeeksforGeeks Vote for difficulty Current difficulty : Easy Easy Normal Medium Hard Expert Improved By : KEERTHIVASANK16BIT051 vaibhavsinghtanwar ychaubey231001 user_18tl raj2002 Article Tags : Advanced Computer Subject GBlog Machine Learning Practice Tags : Machine Learning Report Issue Writing code in comment?', 'Please use ide.geeksforgeeks.org, generate link and share the link here.', \"Load Comments What's New Machine Learning Foundation - Self Paced View Details Content Improvement League 2022 View Details Data Structures & Algorithms- Self Paced Course View Details Most popular in Advanced Computer Subject System Design Tutorial Docker - COPY Instruction Clustering in Machine Learning ML | Underfitting and Overfitting How to Run a Python Script using Docker?\", 'Most visited in GBlog DSA Sheet by Love Babbar Must Do Coding Questions for Companies like Amazon, Microsoft, Adobe, ... Back-End Developer Roadmap 2022 GET and POST requests using Python Top 50 Java Project Ideas For Beginners & Advanced Improve your Coding Skills with Practice Try It!', '5th Floor, A-118, Sector-136, Noida, Uttar Pradesh - 201305 feedback@geeksforgeeks.org Company About Us Careers In Media Contact Us Privacy Policy Copyright Policy Learn Algorithms Data Structures SDE Cheat Sheet Machine learning CS Subjects Video Tutorials Courses News Top News Technology Work & Career Business Finance Lifestyle Knowledge Languages Python Java CPP Golang C# SQL Kotlin Web Development Web Tutorials Django Tutorial HTML JavaScript Bootstrap ReactJS NodeJS Contribute Write an Article Improve an Article Pick Topics to Write Write Interview Experience Internships Video Internship @geeksforgeeks , Some rights reserved We use cookies to ensure you have the best browsing experience on our website.', 'By using our site, you acknowledge that you have read and understood our Cookie Policy & Privacy Policy Got It !', 'Start Your Coding Journey Now!', 'Login Register'], ['What is Machine Learning?', '- India | IBM Skip to content IBM Cloud Learn Hub What is Machine Learning?', 'Machine Learning By: IBM Cloud Education 15 July 2020 Artificial intelligence Data science What is machine learning?', 'Machine Learning vs.', 'Deep Learning vs. Neural Networks How machine learning works Machine learning methods Reinforcement machine learning Real-world machine learning use cases Challenges of Machine Learning Machine learning and IBM Cloud Jump to ... What is machine learning?', 'Machine Learning vs.', 'Deep Learning vs. Neural Networks How machine learning works Machine learning methods Reinforcement machine learning Real-world machine learning use cases Challenges of Machine Learning Machine learning and IBM Cloud Machine Learning This introduction to machine learning provides an overview of its history, important definitions, applications and concerns within businesses today.', 'What is machine learning?', 'Machine learning is a branch of artificial intelligence (AI) and computer science which focuses on the use of data and algorithms to imitate the way that humans learn, gradually improving its accuracy.', 'IBM has a rich history with machine learning.', 'One of its own, Arthur Samuel, is credited for coining the term, “machine learning” with his research (PDF, 492 KB) (link resides outside IBM) around the game of checkers.', 'Robert Nealey, the self-proclaimed checkers master, played the game on an IBM 7094 computer in 1962, and he lost to the computer.', 'Compared to what can be done today, this feat almost seems trivial, but it’s considered a major milestone within the field of artificial intelligence.', 'Over the next couple of decades, the technological developments around storage and processing power will enable some innovative products that we know and love today, such as Netflix’s recommendation engine or self-driving cars.', 'Machine learning is an important component of the growing field of data science.', 'Through the use of statistical methods, algorithms are trained to make classifications or predictions, uncovering key insights within data mining projects.', 'These insights subsequently drive decision making within applications and businesses, ideally impacting key growth metrics.', 'As big data continues to expand and grow, the market demand for data scientists will increase, requiring them to assist in the identification of the most relevant business questions and subsequently the data to answer them.', 'Machine Learning vs.', 'Deep Learning vs. Neural Networks Since deep learning and machine learning tend to be used interchangeably, it’s worth noting the nuances between the two.', 'Machine learning, deep learning, and neural networks are all sub-fields of artificial intelligence.', 'However, deep learning is actually a sub-field of machine learning, and neural networks is a sub-field of deep learning.', 'The way in which deep learning and machine learning differ is in how each algorithm learns.', 'Deep learning automates much of the feature extraction piece of the process, eliminating some of the manual human intervention required and enabling the use of larger data sets.', 'You can think of deep learning as \"scalable machine learning\" as Lex Fridman notes in this MIT lecture (1:08:05) (link resides outside IBM).', 'Classical, or \"non-deep\", machine learning is more dependent on human intervention to learn.', 'Human experts determine the set of features to understand the differences between data inputs, usually requiring more structured data to learn.', '\"Deep\" machine learning can leverage labeled datasets, also known as supervised learning, to inform its algorithm, but it doesn’t necessarily require a labeled dataset.', 'It can ingest unstructured data in its raw form (e.g.', 'text, images), and it can automatically determine the set of features which distinguish different categories of data from one another.', \"Unlike machine learning, it doesn't require human intervention to process data, allowing us to scale machine learning in more interesting ways.\", 'Deep learning and neural networks are primarily credited with accelerating progress in areas, such as computer vision, natural language processing, and speech recognition.', 'Neural networks, or artificial neural networks (ANNs), are comprised of a node layers, containing an input layer, one or more hidden layers, and an output layer.', 'Each node, or artificial neuron, connects to another and has an associated weight and threshold.', 'If the output of any individual node is above the specified threshold value, that node is activated, sending data to the next layer of the network.', 'Otherwise, no data is passed along to the next layer of the network.', 'The “deep” in deep learning is just referring to the depth of layers in a neural network.', 'A neural network that consists of more than three layers—which would be inclusive of the inputs and the output—can be considered a deep learning algorithm or a deep neural network.', 'A neural network that only has two or three layers is just a basic neural network.', 'See the blog post “AI vs. Machine Learning vs.', 'Deep Learning vs. Neural Networks: What’s the Difference?” for a closer look at how the different concepts relate.', 'How machine learning works UC Berkeley (link resides outside IBM) breaks out the learning system of a machine learning algorithm into three main parts.', 'A Decision Process: In general, machine learning algorithms are used to make a prediction or classification.', 'Based on some input data, which can be labelled or unlabeled, your algorithm will produce an estimate about a pattern in the data.', 'An Error Function: An error function serves to evaluate the prediction of the model.', 'If there are known examples, an error function can make a comparison to assess the accuracy of the model.', 'An Model Optimization Process: If the model can fit better to the data points in the training set, then weights are adjusted to reduce the discrepancy between the known example and the model estimate.', 'The algorithm will repeat this evaluate and optimize process, updating weights autonomously until a threshold of accuracy has been met.', 'Machine learning methods Machine learning classifiers fall into three primary categories.', 'Supervised machine learning Supervised learning, also known as supervised machine learning, is defined by its use of labeled datasets to train algorithms that to classify data or predict outcomes accurately.', 'As input data is fed into the model, it adjusts its weights until the model has been fitted appropriately.', 'This occurs as part of the cross validation process to ensure that the model avoids overfitting or underfitting.', 'Supervised learning helps organizations solve for a variety of real-world problems at scale, such as classifying spam in a separate folder from your inbox.', 'Some methods used in supervised learning include neural networks, naïve bayes, linear regression, logistic regression, random forest, support vector machine (SVM), and more.', 'Unsupervised machine learning Unsupervised learning, also known as unsupervised machine learning, uses machine learning algorithms to analyze and cluster unlabeled datasets.', 'These algorithms discover hidden patterns or data groupings without the need for human intervention.', 'Its ability to discover similarities and differences in information make it the ideal solution for exploratory data analysis, cross-selling strategies, customer segmentation, image and pattern recognition.', 'It’s also used to reduce the number of features in a model through the process of dimensionality reduction; principal component analysis (PCA) and singular value decomposition (SVD) are two common approaches for this.', 'Other algorithms used in unsupervised learning include neural networks, k-means clustering, probabilistic clustering methods, and more.', 'Semi-supervised learning Semi-supervised learning offers a happy medium between supervised and unsupervised learning.', 'During training, it uses a smaller labeled data set to guide classification and feature extraction from a larger, unlabeled data set.', 'Semi-supervised learning can solve the problem of having not enough labeled data (or not being able to afford to label enough data) to train a supervised learning algorithm.', 'For a deep dive into the differences between these approaches, check out \"Supervised vs. Unsupervised Learning: What\\'s the Difference?\"', 'Reinforcement machine learning Reinforcement machine learning is a behavioral machine learning model that is similar to supervised learning, but the algorithm isn’t trained using sample data.', 'This model learns as it goes by using trial and error.', 'A sequence of successful outcomes will be reinforced to develop the best recommendation or policy for a given problem.', 'The IBM Watson® system that won the Jeopardy!', 'challenge in 2011 makes a good example.', 'The system used reinforcement learning to decide whether to attempt an answer (or question, as it were), which square to select on the board, and how much to wager—especially on daily doubles.', 'Learn more about reinforcement learning.', 'Real-world machine learning use cases Here are just a few examples of machine learning you might encounter every day: Speech Recognition: It is also known as automatic speech recognition (ASR), computer speech recognition, or speech-to-text, and it is a capability which uses natural language processing (NLP) to process human speech into a written format.', 'Many mobile devices incorporate speech recognition into their systems to conduct voice search—e.g.', 'Siri—or provide more accessibility around texting.', 'Customer Service: Online chatbots are replacing human agents along the customer journey.', 'They answer frequently asked questions (FAQs) around topics, like shipping, or provide personalized advice, cross-selling products or suggesting sizes for users, changing the way we think about customer engagement across websites and social media platforms.', 'Examples include messaging bots on e-commerce sites with virtual agents, messaging apps, such as Slack and Facebook Messenger, and tasks usually done by virtual assistants and voice assistants.', 'Computer Vision: This AI technology enables computers and systems to derive meaningful information from digital images, videos and other visual inputs, and based on those inputs, it can take action.', 'This ability to provide recommendations distinguishes it from image recognition tasks.', 'Powered by convolutional neural networks, computer vision has applications within photo tagging in social media, radiology imaging in healthcare, and self-driving cars within the automotive industry.', 'Recommendation Engines: Using past consumption behavior data, AI algorithms can help to discover data trends that can be used to develop more effective cross-selling strategies.', 'This is used to make relevant add-on recommendations to customers during the checkout process for online retailers.', 'Automated stock trading: Designed to optimize stock portfolios, AI-driven high-frequency trading platforms make thousands or even millions of trades per day without human intervention.', 'Challenges of Machine Learning As machine learning technology advances, it has certainly made our lives easier.', 'However, implementing machine learning within businesses has also raised a number of ethical concerns surrounding AI technologies.', 'Some of these include: Technological Singularity While this topic garners a lot of public attention, many researchers are not concerned with the idea of AI surpassing human intelligence in the near or immediate future.', 'This is also referred to as superintelligence, which Nick Bostrum defines as “any intellect that vastly outperforms the best human brains in practically every field, including scientific creativity, general wisdom, and social skills.” Despite the fact that Strong AI and superintelligence is not imminent in society, the idea of it raises some interesting questions as we consider the use of autonomous systems, like self-driving cars.', 'It’s unrealistic to think that a driverless car would never get into a car accident, but who is responsible and liable under those circumstances?', 'Should we still pursue autonomous vehicles, or do we limit the integration of this technology to create only semi-autonomous vehicles which promote safety among drivers?', 'The jury is still out on this, but these are the types of ethical debates that are occurring as new, innovative AI technology develops.', 'AI Impact on Jobs: While a lot of public perception around artificial intelligence centers around job loss, this concern should be probably reframed.', 'With every disruptive, new technology, we see that the market demand for specific job roles shift.', 'For example, when we look at the automotive industry, many manufacturers, like GM, are shifting to focus on electric vehicle production to align with green initiatives.', 'The energy industry isn’t going away, but the source of energy is shifting from a fuel economy to an electric one.', 'Artificial intelligence should be viewed in a similar manner, where artificial intelligence will shift the demand of jobs to other areas.', 'There will need to be individuals to help manage these systems as data grows and changes every day.', 'There will still need to be resources to address more complex problems within the industries that are most likely to be affected by job demand shifts, like customer service.', 'The important aspect of artificial intelligence and its effect on the job market will be helping individuals transition to these new areas of market demand.', 'Privacy: Privacy tends to be discussed in the context of data privacy, data protection and data security, and these concerns have allowed policymakers to make more strides here in recent years.', 'For example, in 2016, GDPR legislation was created to protect the personal data of people in the European Union and European Economic Area, giving individuals more control of their data.', 'In the United States, individual states are developing policies, such as the California Consumer Privacy Act (CCPA), which require businesses to inform consumers about the collection of their data.', 'This recent legislation has forced companies to rethink how they store and use personally identifiable data (PII).', 'As a result, investments within security have become an increasing priority for businesses as they seek to eliminate any vulnerabilities and opportunities for surveillance, hacking, and cyberattacks.', 'Bias and Discrimination: Instances of bias and discrimination across a number of intelligent systems have raised many ethical questions regarding the use of artificial intelligence.', 'How can we safeguard against bias and discrimination when the training data itself can lend itself to bias?', 'While companies typically have well-meaning intentions around their automation efforts, Reuters (link resides outside IBM) highlights some of the unforeseen consequences of incorporating AI into hiring practices.', 'In their effort to automate and simplify a process, Amazon unintentionally biased potential job candidates by gender for open technical roles, and they ultimately had to scrap the project.', 'As events like these surface, Harvard Business Review (link resides outside IBM) has raised other pointed questions around the use of AI within hiring practices, such as what data should you be able to use when evaluating a candidate for a role.', 'Bias and discrimination aren’t limited to the human resources function either; it can be found in a number of applications from facial recognition software to social media algorithms.', 'As businesses become more aware of the risks with AI, they’ve also become more active this discussion around AI ethics and values.', 'For example, last year IBM’s CEO Arvind Krishna shared that IBM has sunset its general purpose IBM facial recognition and analysis products, emphasizing that “IBM firmly opposes and will not condone uses of any technology, including facial recognition technology offered by other vendors, for mass surveillance, racial profiling, violations of basic human rights and freedoms, or any purpose which is not consistent with our values and Principles of Trust and Transparency.” To read more about this, check out IBM’s policy blog, relaying its point of view on “A Precision Regulation Approach to Controlling Facial Recognition Technology Exports.” Accountability Since there isn’t significant legislation to regulate AI practices, there is no real enforcement mechanism to ensure that ethical AI is practiced.', 'The current incentives for companies to adhere to these guidelines are the negative repercussions of an unethical AI system to the bottom line.', 'To fill the gap, ethical frameworks have emerged as part of a collaboration between ethicists and researchers to govern the construction and distribution of AI models within society.', 'However, at the moment, these only serve to guide, and research (link resides outside IBM) (PDF, 1 MB) shows that the combination of distributed responsibility and lack of foresight into potential consequences isn’t necessarily conducive to preventing harm to society.', \"To read more on IBM's position around AI Ethics, read more here.\", 'Machine learning and IBM Cloud IBM Watson Machine Learning supports the machine learning lifecycle end to end.', 'It is available in a range of offerings that let you build machine learning models wherever your data lives and deploy them anywhere in your hybrid multicloud environment.', 'IBM Watson Machine Learning on IBM Cloud Pak for Data helps enterprise data science and AI teams speed AI development and deployment anywhere, on a cloud native data and AI platform.', 'IBM Watson Machine Learning Cloud, a managed service in the IBM Cloud environment, is the fastest way to move models from experimentation on the desktop to deployment for production workloads.', 'For smaller teams looking to scale machine learning deployments, IBM Watson Machine Learning Server offers simple installation on any private or public cloud.', 'To get started, sign up for an IBMid and create your IBM Cloud account.', 'IBM named a Leader IBM is named a Leader in the 2021 Gartner Magic Quadrant for Data Science and Machine Learning Platforms.', 'Read the report Machine learning for dummies ebook Explore how machine learning lets you continually learn from data and predict the future.', 'Download (1.8 MB) Featured products Watson Machine Learning Accelerator Watson Studio Related links ModelOps IBM Developer - Machine learning Explainable AI Cookie preferences']]\n",
            "CPU times: user 97 ms, sys: 2.93 ms, total: 99.9 ms\n",
            "Wall time: 1.11 s\n"
          ]
        }
      ]
    },
    {
      "cell_type": "code",
      "source": [
        "len(data_lines)"
      ],
      "metadata": {
        "colab": {
          "base_uri": "https://localhost:8080/"
        },
        "id": "R_dAdR8jwVCm",
        "outputId": "f90e6d10-215b-4d17-de8f-2e982cbde78e"
      },
      "execution_count": null,
      "outputs": [
        {
          "output_type": "execute_result",
          "data": {
            "text/plain": [
              "2"
            ]
          },
          "metadata": {},
          "execution_count": 67
        }
      ]
    },
    {
      "cell_type": "code",
      "source": [
        "len(data_lines[0])"
      ],
      "metadata": {
        "colab": {
          "base_uri": "https://localhost:8080/"
        },
        "id": "aTv5Y7LQwYPe",
        "outputId": "13375bfd-2f48-44d1-eee4-29ed74a5acb1"
      },
      "execution_count": null,
      "outputs": [
        {
          "output_type": "execute_result",
          "data": {
            "text/plain": [
              "81"
            ]
          },
          "metadata": {},
          "execution_count": 68
        }
      ]
    },
    {
      "cell_type": "code",
      "source": [
        "len(data_lines[1])"
      ],
      "metadata": {
        "colab": {
          "base_uri": "https://localhost:8080/"
        },
        "id": "fl5xfPulw9YX",
        "outputId": "b25954cc-93d9-41e9-ff48-a66f5bc9a9cf"
      },
      "execution_count": null,
      "outputs": [
        {
          "output_type": "execute_result",
          "data": {
            "text/plain": [
              "123"
            ]
          },
          "metadata": {},
          "execution_count": 69
        }
      ]
    },
    {
      "cell_type": "code",
      "source": [
        "data_lines = reduce(lambda x, y: [x] + y if not isinstance(x, list) else (x + [y] if not isinstance(y, list) else x + y), data_lines)"
      ],
      "metadata": {
        "id": "wayG70b8xHK7"
      },
      "execution_count": null,
      "outputs": []
    },
    {
      "cell_type": "code",
      "source": [
        "len(data_lines)"
      ],
      "metadata": {
        "colab": {
          "base_uri": "https://localhost:8080/"
        },
        "id": "npadhNvDxPyo",
        "outputId": "1036decf-c840-445d-d369-c038560dec33"
      },
      "execution_count": null,
      "outputs": [
        {
          "output_type": "execute_result",
          "data": {
            "text/plain": [
              "204"
            ]
          },
          "metadata": {},
          "execution_count": 71
        }
      ]
    },
    {
      "cell_type": "code",
      "source": [
        "from txtai.embeddings import Embeddings\n",
        "\n",
        "# Create embeddings model, backed by sentence-transformers & transformers\n",
        "embeddings = Embeddings({\"path\": \"sentence-transformers/nli-mpnet-base-v2\"})"
      ],
      "metadata": {
        "id": "4_KX83__xVqK"
      },
      "execution_count": null,
      "outputs": []
    },
    {
      "cell_type": "code",
      "source": [
        "quer = 'Machine Learning'"
      ],
      "metadata": {
        "id": "qgzQTlpxxmqn"
      },
      "execution_count": null,
      "outputs": []
    },
    {
      "cell_type": "code",
      "source": [
        "%%time\n",
        "seq = embeddings.similarity(quer, data_lines)"
      ],
      "metadata": {
        "colab": {
          "base_uri": "https://localhost:8080/"
        },
        "id": "lcDbWS4_xtco",
        "outputId": "ed02177e-176f-4d85-c906-fcffecdafb54"
      },
      "execution_count": null,
      "outputs": [
        {
          "output_type": "stream",
          "name": "stdout",
          "text": [
            "CPU times: user 2.17 s, sys: 17.8 ms, total: 2.19 s\n",
            "Wall time: 2.2 s\n"
          ]
        }
      ]
    },
    {
      "cell_type": "code",
      "source": [
        "three_most = seq[0:3]\n",
        "three_most"
      ],
      "metadata": {
        "colab": {
          "base_uri": "https://localhost:8080/"
        },
        "id": "kLqvSiVuxwVF",
        "outputId": "e486bd08-aa97-4caf-cdd2-4b1043b25cde"
      },
      "execution_count": null,
      "outputs": [
        {
          "output_type": "execute_result",
          "data": {
            "text/plain": [
              "[(84, 0.9115892052650452), (86, 0.9115892052650452), (99, 0.9115892052650452)]"
            ]
          },
          "metadata": {},
          "execution_count": 75
        }
      ]
    },
    {
      "cell_type": "code",
      "source": [
        "indexes = []\n",
        "for i in three_most:\n",
        "  indexes.append(i[0])\n",
        "  \n",
        "indexes"
      ],
      "metadata": {
        "colab": {
          "base_uri": "https://localhost:8080/"
        },
        "id": "gcyZT5MexzBs",
        "outputId": "160750a9-f10a-47f5-ffd7-07b0096b37b2"
      },
      "execution_count": null,
      "outputs": [
        {
          "output_type": "execute_result",
          "data": {
            "text/plain": [
              "[84, 86, 99]"
            ]
          },
          "metadata": {},
          "execution_count": 76
        }
      ]
    },
    {
      "cell_type": "code",
      "source": [
        "for j in indexes:\n",
        "    print(j, data_lines[j] )"
      ],
      "metadata": {
        "colab": {
          "base_uri": "https://localhost:8080/"
        },
        "id": "XIWhbJXIx23d",
        "outputId": "b504ef17-ee24-4947-edaf-4bed8bf4446d"
      },
      "execution_count": null,
      "outputs": [
        {
          "output_type": "stream",
          "name": "stdout",
          "text": [
            "84 Machine Learning vs.\n",
            "86 Machine Learning vs.\n",
            "99 Machine Learning vs.\n"
          ]
        }
      ]
    }
  ]
}